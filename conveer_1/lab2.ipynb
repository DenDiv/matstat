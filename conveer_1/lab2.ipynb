{
 "cells": [
  {
   "cell_type": "code",
   "execution_count": 1,
   "metadata": {},
   "outputs": [],
   "source": [
    "import random\n",
    "import numpy as np\n",
    "import scipy\n",
    "from scipy import stats\n",
    "from matplotlib import pyplot as plt\n",
    "from scipy.stats import f\n",
    "from scipy.stats import chi2\n",
    "from statsmodels.stats.descriptivestats import sign_test\n",
    "from scipy.stats import mannwhitneyu\n",
    "import docx\n",
    "%matplotlib inline"
   ]
  },
  {
   "cell_type": "code",
   "execution_count": 2,
   "metadata": {},
   "outputs": [],
   "source": [
    "def chi2_two_sample_test(X1, X2):\n",
    "    n1 = sum(X1)\n",
    "    n2 = sum(X2)\n",
    "    k1 = np.sqrt(n1/n2)\n",
    "    k2 = np.sqrt(n2/n1)\n",
    "    z = 0.\n",
    "    for i in range(len(X1)):\n",
    "        z+=(k1*X2[i] - k2*X1[i])**2/(X2[i]+X1[i])\n",
    "    if n1 != n2:\n",
    "        p_val = 1 - stats.chi2(len(X1) - 1).cdf(z)\n",
    "    else:\n",
    "        p_val = 1 - stats.chi2(len(X1)).cdf(z)\n",
    "    return (z, p_val)"
   ]
  },
  {
   "cell_type": "code",
   "execution_count": 3,
   "metadata": {},
   "outputs": [
    {
     "data": {
      "text/plain": [
       "'\\ndef chi2_two_sample_test(hist_1, hist_2):\\n    n1 = sum(hist_1[0])\\n    n2 = sum(hist_2[0])\\n    z = 0.\\n    for i in range(len(hist_1[0])):\\n        z+=(1./(hist_1[0][i] + hist_2[0][i]))*(hist_1[0][i]/n1 - hist_2[0][i]/n2)\\n    z*=n1*n2\\n    p_val = 1 - stats.chi2(len(hist_1[0]) - 1).cdf(z)\\n    return (z, p_val)\\n'"
      ]
     },
     "execution_count": 3,
     "metadata": {},
     "output_type": "execute_result"
    }
   ],
   "source": [
    "'''\n",
    "def chi2_two_sample_test(hist_1, hist_2):\n",
    "    n1 = sum(hist_1[0])\n",
    "    n2 = sum(hist_2[0])\n",
    "    z = 0.\n",
    "    for i in range(len(hist_1[0])):\n",
    "        z+=(1./(hist_1[0][i] + hist_2[0][i]))*(hist_1[0][i]/n1 - hist_2[0][i]/n2)\n",
    "    z*=n1*n2\n",
    "    p_val = 1 - stats.chi2(len(hist_1[0]) - 1).cdf(z)\n",
    "    return (z, p_val)\n",
    "'''"
   ]
  },
  {
   "cell_type": "code",
   "execution_count": 4,
   "metadata": {},
   "outputs": [],
   "source": [
    "def emp_func_distr(X):\n",
    "    emp_func = np.zeros((len(X),2))\n",
    "    for i in range(len(X)):\n",
    "        emp_func[i][0] = X[i]\n",
    "        emp_func[i][1] = sum(X<X[i])\n",
    "    emp_func[:,1] = emp_func[:,1]/len(X)\n",
    "    emp_func = np.array(sorted(emp_func.tolist(), key = lambda x: x[0]))\n",
    "    return emp_func"
   ]
  },
  {
   "cell_type": "code",
   "execution_count": 5,
   "metadata": {},
   "outputs": [],
   "source": [
    "def count_hi_stat_chi5(hist, num_el):\n",
    "    observed_frequences = hist[0] * (hist[1][1] - hist[1][0]) * num_el\n",
    "    expected_frequences = stats.chi2.cdf(hist[1], df = 5)\n",
    "    expected_frequences = [expected_frequences[i + 1] - expected_frequences[i] for i in range(len(hist[1]) - 1)]\n",
    "    expected_frequences = np.array(expected_frequences) * num_el\n",
    "    return stats.chisquare(observed_frequences, expected_frequences)"
   ]
  },
  {
   "cell_type": "code",
   "execution_count": 6,
   "metadata": {},
   "outputs": [],
   "source": [
    "def count_hi_stat_norm(hist, num_el):\n",
    "    observed_frequences = hist[0] * (hist[1][1] - hist[1][0]) * num_el\n",
    "    expected_frequences = stats.norm.cdf(hist[1])\n",
    "    expected_frequences = [expected_frequences[i + 1] - expected_frequences[i] for i in range(len(hist[1]) - 1)]\n",
    "    expected_frequences = np.array(expected_frequences)*num_el\n",
    "    return stats.chisquare(observed_frequences, expected_frequences, ddof = 2)"
   ]
  },
  {
   "cell_type": "code",
   "execution_count": 7,
   "metadata": {},
   "outputs": [],
   "source": [
    "def count_hi_stat_R(hist, num_el):\n",
    "    observed_frequences = hist[0] * (hist[1][1] - hist[1][0]) * num_el\n",
    "    a = np.min(hist[1])\n",
    "    b = np.max(hist[1])\n",
    "    f = 1./(b-a)\n",
    "    expected_frequences = [f*(hist[1][1] - hist[1][0])]*len(hist[0])\n",
    "    expected_frequences = np.array(expected_frequences) * num_el\n",
    "    return stats.chisquare(observed_frequences, expected_frequences)"
   ]
  },
  {
   "cell_type": "code",
   "execution_count": 8,
   "metadata": {},
   "outputs": [],
   "source": [
    "class distr:\n",
    "    def __init__(self, random_state, name, n, *args):\n",
    "        self.name = name\n",
    "        self.args = args\n",
    "        self.n = n\n",
    "        \n",
    "        if name == 'norm':\n",
    "            self.data = stats.norm.rvs(args[0], args[1], size = n, random_state = random_state)\n",
    "            self.r_mean = args[0]\n",
    "            self.r_var = args[1]**2\n",
    "            self.r_std = args[1]\n",
    "            \n",
    "        if name == 'chi2':\n",
    "            self.data = stats.chi2.rvs(args[0], size = n, random_state = random_state)\n",
    "            self.r_mean = args[0]\n",
    "            self.r_var = args[0]*2\n",
    "            self.r_std = np.sqrt(args[0]*2)\n",
    "            \n",
    "        if name == 'r':\n",
    "            self.data = stats.uniform(loc = args[0], scale = args[1] - args[0]).rvs(size = n, random_state = random_state)\n",
    "            self.r_mean = (args[0] + args[1])/2.\n",
    "            self.r_var = (args[1] - args[0])**2/12.\n",
    "            self.r_std = np.sqrt((args[1] - args[0])**2/12.)\n",
    "            \n",
    "        self.s_mean = self.data.mean()\n",
    "        self.s_var = self.data.var()\n",
    "        self.s_std = self.data.std()\n",
    "        \n",
    "        \n",
    "    def __str__(self):\n",
    "        return str(self.name) + ' ' + str(self.args) + ' ' + str(self.n) + \\\n",
    "                ' sample_mean=' + str(round(self.s_mean, 2)) + ' sample_var=' + str(round(self.s_var, 2))\n",
    "    \n",
    "    def z_test(self, m0):\n",
    "        z = (self.s_mean - m0)/(self.r_std/np.sqrt(self.n))\n",
    "        p_val = 2*(1 - stats.norm.cdf(abs(z)))\n",
    "        return (z, p_val)\n",
    "    \n",
    "    def t_test(self, m0):\n",
    "        z = (self.s_mean - m0)/(self.s_std/np.sqrt(self.n))\n",
    "        p_val = 2*(1 - stats.t.cdf(abs(z), self.n - 1))\n",
    "        return (z, p_val)\n",
    "    \n",
    "    def chi2_test0(self, v0):\n",
    "        z = np.sum((self.data - self.r_mean)**2)/v0\n",
    "        p_val = 2*min(1 - stats.chi2.cdf(z, self.n), stats.chi2.cdf(z, self.n))\n",
    "        return (z, p_val)\n",
    "    \n",
    "    def chi2_test1(self, v0):\n",
    "        z = self.s_var*(self.n - 1)/v0\n",
    "        p_val = 2*min(1 - stats.chi2.cdf(z, self.n - 1), stats.chi2.cdf(z, self.n - 1))\n",
    "        return (z, p_val)"
   ]
  },
  {
   "cell_type": "code",
   "execution_count": 9,
   "metadata": {},
   "outputs": [],
   "source": [
    "def pooled_mean(*args):\n",
    "    res = sum([len(args[i])*np.mean(args[i]) for i in range(len(args))])/sum([len(args[i]) for i in range(len(args))])\n",
    "    return res\n",
    "def pooled_var(*args):\n",
    "    res = sum([(len(args[i])-1)*np.var(args[i]) for i in range(len(args))])/sum([(len(args[i])-1) for i in range(len(args))])\n",
    "    return res"
   ]
  },
  {
   "cell_type": "code",
   "execution_count": 10,
   "metadata": {},
   "outputs": [],
   "source": [
    "def task_1(dist_1:distr, dist_2:distr, doc):\n",
    "    \n",
    "    doc.tables[0].rows[1].cells[0].text  = dist_1.name \n",
    "    \n",
    "    if dist_1.name == 'norm':\n",
    "        doc.tables[0].rows[1].cells[1].text  = 'm='+str(dist_1.args[0])+'\\nstd='+str(dist_1.args[1])\n",
    "        doc.tables[0].rows[1].cells[2].text  = str(dist_1.args[0])\n",
    "        doc.tables[0].rows[1].cells[3].text  = str(round(dist_1.args[1]**2))\n",
    "        \n",
    "    if dist_1.name == 'chi2':\n",
    "        doc.tables[0].rows[1].cells[1].text  = 'число ст. своб='+str(dist_1.args[0])\n",
    "        doc.tables[0].rows[1].cells[2].text  = str(dist_1.args[0])\n",
    "        doc.tables[0].rows[1].cells[3].text  = str(round(dist_1.args[0]*2))\n",
    "        \n",
    "    if dist_1.name == 'r':\n",
    "        doc.tables[0].rows[1].cells[1].text  = 'a='+str(dist_1.args[0])+'\\nb='+str(dist_1.args[1])\n",
    "        doc.tables[0].rows[1].cells[2].text  = str(round((dist_1.args[0] + dist_1.args[1])/2., 2))\n",
    "        doc.tables[0].rows[1].cells[3].text  = str(round((dist_1.args[1] - dist_1.args[0])**2/12., 2))\n",
    "         \n",
    "   \n",
    "   \n",
    "    doc.tables[1].rows[1].cells[0].text = str(round(dist_1.s_mean, 2))\n",
    "    doc.tables[1].rows[1].cells[1].text = str(round(dist_1.s_var, 2))\n",
    "    doc.tables[1].rows[1].cells[2].text = str(round(dist_1.s_var**(0.5), 2))\n",
    "    \n",
    "    doc.tables[6].rows[1].cells[0].text  = dist_2.name \n",
    "    \n",
    "    if dist_2.name == 'norm':\n",
    "        doc.tables[6].rows[1].cells[1].text  = 'm='+str(dist_2.args[0])+'\\nstd='+str(dist_2.args[1])\n",
    "        doc.tables[6].rows[1].cells[2].text  = str(dist_2.args[0])\n",
    "        doc.tables[6].rows[1].cells[3].text  = str(round(dist_2.args[1]**2))\n",
    "        \n",
    "    if dist_2.name == 'chi2':\n",
    "        doc.tables[6].rows[1].cells[1].text  = 'число ст. своб='+str(dist_2.args[0])\n",
    "        doc.tables[6].rows[1].cells[2].text  = str(dist_2.args[0])\n",
    "        doc.tables[6].rows[1].cells[3].text  = str(round(dist_2.args[0]*2))\n",
    "        \n",
    "    if dist_2.name == 'r':\n",
    "        doc.tables[6].rows[1].cells[1].text  = 'a='+str(dist_2.args[0])+'\\nb='+str(dist_2.args[1])\n",
    "        doc.tables[6].rows[1].cells[2].text  = str(round((dist_2.args[0] + dist_2.args[1])/2., 2))\n",
    "        doc.tables[6].rows[1].cells[3].text  = str(round((dist_2.args[1] - dist_2.args[0])**2/12., 2))\n",
    "        \n",
    "    "
   ]
  },
  {
   "cell_type": "code",
   "execution_count": 12,
   "metadata": {},
   "outputs": [],
   "source": [
    "def task_2(dist_1:distr, alpha, doc):\n",
    "    \n",
    "    X1_1 = ((dist_1.data - dist_1.s_mean)/dist_1.s_std)\n",
    "    hist_1 = plt.hist(X1_1, bins = 5, density= True)\n",
    "    hist_2 = plt.hist(X1_1, bins = 10, density= True)\n",
    "    hist_3 = plt.hist(X1_1, bins = 15, density= True)\n",
    "    hist_4 = plt.hist(X1_1, bins = 25, density= True)\n",
    "    \n",
    "    z1 = count_hi_stat_norm(hist_1, dist_1.n)\n",
    "    z2 = count_hi_stat_norm(hist_2, dist_1.n)\n",
    "    z3 = count_hi_stat_norm(hist_3, dist_1.n)\n",
    "    z4 = count_hi_stat_norm(hist_4, dist_1.n)\n",
    "    \n",
    "    doc.tables[2].rows[1].cells[1].text = str(round(z1[0], 3))\n",
    "    doc.tables[2].rows[2].cells[1].text = str(round(z2[0], 3))\n",
    "    doc.tables[2].rows[3].cells[1].text = str(round(z3[0], 3))\n",
    "    doc.tables[2].rows[4].cells[1].text = str(round(z4[0], 3))\n",
    "    \n",
    "    doc.tables[2].rows[1].cells[2].text = \"{:.3e}\".format(z1[1])\n",
    "    doc.tables[2].rows[2].cells[2].text = \"{:.3e}\".format(z2[1])\n",
    "    doc.tables[2].rows[3].cells[2].text = \"{:.3e}\".format(z3[1])\n",
    "    doc.tables[2].rows[4].cells[2].text = \"{:.3e}\".format(z4[1])\n",
    "    \n",
    "    p_arr = [z1[1], z2[1], z3[1], z4[1]]\n",
    "    \n",
    "    for val in enumerate(p_arr):\n",
    "        \n",
    "        if val[1] < alpha:\n",
    "            \n",
    "            doc.tables[2].rows[val[0] + 1].cells[3].text = 'H0 отверг'\n",
    "            if dist_1.name == 'norm':\n",
    "                doc.tables[2].rows[val[0] + 1].cells[4].text = 'Ош. 1го рода'\n",
    "            else:\n",
    "                doc.tables[2].rows[val[0] + 1].cells[4].text = 'Нет ош.'\n",
    "                \n",
    "        else:\n",
    "            \n",
    "            doc.tables[2].rows[val[0] + 1].cells[3].text = 'H0 приним'\n",
    "            \n",
    "            if dist_1.name == 'norm':\n",
    "                doc.tables[2].rows[val[0] + 1].cells[4].text = 'Нет ош.'\n",
    "            else:\n",
    "                doc.tables[2].rows[val[0] + 1].cells[4].text = 'Ош. 2го рода'\n",
    "                \n",
    "    hist_1 = plt.hist(dist_1.data, bins = 5, density = True)\n",
    "    hist_2 = plt.hist(dist_1.data, bins = 10, density = True)\n",
    "    hist_3 = plt.hist(dist_1.data, bins = 15, density = True)\n",
    "    hist_4 = plt.hist(dist_1.data, bins = 25, density = True)\n",
    "                \n",
    "    z1 = count_hi_stat_R(hist_1, dist_1.n)\n",
    "    z2 = count_hi_stat_R(hist_2, dist_1.n)\n",
    "    z3 = count_hi_stat_R(hist_3, dist_1.n)\n",
    "    z4 = count_hi_stat_R(hist_4, dist_1.n)\n",
    "    \n",
    "    doc.tables[3].rows[1].cells[1].text = str(round(z1[0], 3))\n",
    "    doc.tables[3].rows[2].cells[1].text = str(round(z2[0], 3))\n",
    "    doc.tables[3].rows[3].cells[1].text = str(round(z3[0], 3))\n",
    "    doc.tables[3].rows[4].cells[1].text = str(round(z4[0], 3))\n",
    "    \n",
    "    doc.tables[3].rows[1].cells[2].text = \"{:.3e}\".format(z1[1])\n",
    "    doc.tables[3].rows[2].cells[2].text = \"{:.3e}\".format(z2[1])\n",
    "    doc.tables[3].rows[3].cells[2].text = \"{:.3e}\".format(z3[1])\n",
    "    doc.tables[3].rows[4].cells[2].text = \"{:.3e}\".format(z4[1])\n",
    "    \n",
    "    p_arr = [z1[1], z2[1], z3[1], z4[1]]\n",
    "    \n",
    "    for val in enumerate(p_arr):\n",
    "        \n",
    "        if val[1] < alpha:\n",
    "            \n",
    "            doc.tables[3].rows[val[0] + 1].cells[3].text = 'H0 отверг'\n",
    "            if dist_1.name == 'r':\n",
    "                doc.tables[3].rows[val[0] + 1].cells[4].text = 'Ош. 1го рода'\n",
    "            else:\n",
    "                doc.tables[3].rows[val[0] + 1].cells[4].text = 'Нет ош.'\n",
    "                \n",
    "        else:\n",
    "            \n",
    "            doc.tables[3].rows[val[0] + 1].cells[3].text = 'H0 приним'\n",
    "            \n",
    "            if dist_1.name == 'r':\n",
    "                doc.tables[3].rows[val[0] + 1].cells[4].text = 'Нет ош.'\n",
    "            else:\n",
    "                doc.tables[3].rows[val[0] + 1].cells[4].text = 'Ош. 2го рода'\n",
    "                \n",
    "    z1 = count_hi_stat_chi5(hist_1, dist_1.n)\n",
    "    z2 = count_hi_stat_chi5(hist_2, dist_1.n)\n",
    "    z3 = count_hi_stat_chi5(hist_3, dist_1.n)\n",
    "    z4 = count_hi_stat_chi5(hist_4, dist_1.n)\n",
    "    \n",
    "    doc.tables[4].rows[1].cells[1].text = str(round(z1[0], 3))\n",
    "    doc.tables[4].rows[2].cells[1].text = str(round(z2[0], 3))\n",
    "    doc.tables[4].rows[3].cells[1].text = str(round(z3[0], 3))\n",
    "    doc.tables[4].rows[4].cells[1].text = str(round(z4[0], 3))\n",
    "    \n",
    "    doc.tables[4].rows[1].cells[2].text = \"{:.3e}\".format(z1[1])\n",
    "    doc.tables[4].rows[2].cells[2].text = \"{:.3e}\".format(z2[1])\n",
    "    doc.tables[4].rows[3].cells[2].text = \"{:.3e}\".format(z3[1])\n",
    "    doc.tables[4].rows[4].cells[2].text = \"{:.3e}\".format(z4[1])\n",
    "    \n",
    "    p_arr = [z1[1], z2[1], z3[1], z4[1]]\n",
    "    \n",
    "    for val in enumerate(p_arr):\n",
    "        \n",
    "        if val[1] < alpha:\n",
    "            \n",
    "            doc.tables[4].rows[val[0] + 1].cells[3].text = 'H0 отверг'\n",
    "            if dist_1.name == 'chi2' and dist_1.args[0] == 5:\n",
    "                doc.tables[4].rows[val[0] + 1].cells[4].text = 'Ош. 1го рода'\n",
    "            else:\n",
    "                doc.tables[4].rows[val[0] + 1].cells[4].text = 'Нет ош.'\n",
    "                \n",
    "        else:\n",
    "            \n",
    "            doc.tables[4].rows[val[0] + 1].cells[3].text = 'H0 приним'\n",
    "            \n",
    "            if dist_1.name == 'chi2' and dist_1.args[0] == 5:\n",
    "                doc.tables[4].rows[val[0] + 1].cells[4].text = 'Нет ош.'\n",
    "            else:\n",
    "                doc.tables[4].rows[val[0] + 1].cells[4].text = 'Ош. 2го рода'\n",
    "                \n",
    "    z1 = stats.kstest(dist_1.data, 'norm', args = (dist_1.r_mean, dist_1.r_std))\n",
    "    z2 = stats.kstest(dist_1.data, lambda x: (x - min(dist_1.data))/(max(dist_1.data)-min(dist_1.data)))\n",
    "    z3 = stats.kstest(dist_1.data, 'chi2', args = (5,))\n",
    "    \n",
    "    doc.tables[5].rows[1].cells[1].text = str(round(z1[0], 3))\n",
    "    doc.tables[5].rows[2].cells[1].text = str(round(z2[0], 3))\n",
    "    doc.tables[5].rows[3].cells[1].text = str(round(z3[0], 3))\n",
    "    \n",
    "    doc.tables[5].rows[1].cells[2].text = \"{:.3e}\".format(z1[1])\n",
    "    doc.tables[5].rows[2].cells[2].text = \"{:.3e}\".format(z2[1])\n",
    "    doc.tables[5].rows[3].cells[2].text = \"{:.3e}\".format(z3[1])\n",
    "    \n",
    "    if z1[1] < alpha:\n",
    "            \n",
    "        doc.tables[5].rows[1].cells[3].text = 'H0 отверг'\n",
    "        if dist_1.name == 'norm':\n",
    "            doc.tables[5].rows[1].cells[4].text = 'Ош. 1го рода'\n",
    "        else:\n",
    "            doc.tables[5].rows[1].cells[4].text = 'Нет ош.'\n",
    "                \n",
    "    else:\n",
    "        doc.tables[5].rows[1].cells[3].text = 'H0 приним'\n",
    "            \n",
    "        if dist_1.name == 'norm':\n",
    "            doc.tables[5].rows[1].cells[4].text = 'Нет ош.'\n",
    "        else:\n",
    "            doc.tables[5].rows[1].cells[4].text = 'Ош. 2го рода'\n",
    "            \n",
    "    if z2[1] < alpha:\n",
    "            \n",
    "        doc.tables[5].rows[2].cells[3].text = 'H0 отверг'\n",
    "        if dist_1.name == 'r':\n",
    "            doc.tables[5].rows[2].cells[4].text = 'Ош. 1го рода'\n",
    "        else:\n",
    "            doc.tables[5].rows[2].cells[4].text = 'Нет ош.'\n",
    "                \n",
    "    else:\n",
    "        doc.tables[5].rows[2].cells[3].text = 'H0 приним'\n",
    "            \n",
    "        if dist_1.name == 'r':\n",
    "            doc.tables[5].rows[2].cells[4].text = 'Нет ош.'\n",
    "        else:\n",
    "            doc.tables[5].rows[2].cells[4].text = 'Ош. 2го рода'\n",
    "            \n",
    "    if z3[1] < alpha:\n",
    "            \n",
    "        doc.tables[5].rows[3].cells[3].text = 'H0 отверг'\n",
    "        if dist_1.name == 'chi2' and dist_1.args[0] == 5:\n",
    "            doc.tables[5].rows[3].cells[4].text = 'Ош. 1го рода'\n",
    "        else:\n",
    "            doc.tables[5].rows[3].cells[4].text = 'Нет ош.'\n",
    "                \n",
    "    else:\n",
    "        doc.tables[5].rows[3].cells[3].text = 'H0 приним'\n",
    "            \n",
    "        if dist_1.name == 'chi2' and dist_1.args[0] == 5:\n",
    "            doc.tables[5].rows[3].cells[4].text = 'Нет ош.'\n",
    "        else:\n",
    "            doc.tables[5].rows[3].cells[4].text = 'Ош. 2го рода'\n",
    "        \n",
    "        "
   ]
  },
  {
   "cell_type": "code",
   "execution_count": 13,
   "metadata": {},
   "outputs": [],
   "source": [
    "def graphics(dist_1, dist_2):\n",
    "    fig, ax = plt.subplots(2, 2)\n",
    "    fig.set_size_inches(15.5, 10.5)\n",
    "    ax[0][0].hist(dist_1.data, bins = 5, density= True)\n",
    "    ax[0][0].set_xlabel('nBins = 5')\n",
    "    ax[0][1].hist(dist_1.data, bins = 10, density= True)\n",
    "    ax[0][1].set_xlabel('nBins = 10')\n",
    "    ax[1][0].hist(dist_1.data, bins = 15, density= True)\n",
    "    ax[1][0].set_xlabel('nBins = 15')\n",
    "    ax[1][1].hist(dist_1.data, bins = 25, density= True)\n",
    "    ax[1][1].set_xlabel('nBins = 25')\n",
    "    plt.savefig('lab2_im/lab2_hist.png')\n",
    "    \n",
    "    emp_func = emp_func_distr(dist_1.data)\n",
    "    fig, ax = plt.subplots(1, 1)\n",
    "    ax.plot(emp_func[:,0], emp_func[:,1],\n",
    "          'r-', lw=2, alpha=0.6, label='emp_func')\n",
    "    x = np.linspace(min(emp_func[:,0]), max(emp_func[:,0]), 100)\n",
    "    ax.plot(x, stats.norm(dist_1.r_mean, dist_1.r_std).cdf(x), linestyle='dashed', linewidth = 2, label = 'norm')\n",
    "    ax.plot(x, stats.chi2(5).cdf(x), linestyle=':', linewidth = 2, label = 'chi2')\n",
    "    ax.plot(x, stats.uniform(min(dist_1.data),max(dist_1.data)-min(dist_1.data)).cdf(x), linestyle='-.', linewidth = 2, label = 'uniform')\n",
    "    ax.set_xlabel('x')\n",
    "    ax.set_ylabel('cdf(x)')\n",
    "    ax.legend(loc='best', frameon=False)\n",
    "    plt.savefig('lab2_im/lab2_1.png')\n",
    "    \n",
    "    fig, ax = plt.subplots(1, 1)\n",
    "    x_left = max(min(dist_1.data), min(dist_2.data))\n",
    "    x_right = min(max(dist_1.data), max(dist_2.data))\n",
    "    hist_1 = ax.hist(dist_1.data, bins = 15, density = True, label = 'X', range = (x_left, x_right))\n",
    "    hist_2 = ax.hist(dist_2.data, bins = 15, density = True, histtype = 'step', label = 'Y', range = (x_left, x_right))\n",
    "    ax.legend(loc='best', frameon=False)\n",
    "    plt.savefig('lab2_im/hist_X_Y.png')\n",
    "    \n",
    "    fig, ax = plt.subplots(1, 1)\n",
    "    emp_func_1 = emp_func_distr(dist_1.data)\n",
    "    emp_func_2 = emp_func_distr(dist_2.data)\n",
    "    ax.plot(emp_func_1[:,0], emp_func_1[:,1], label = 'X')\n",
    "    ax.plot(emp_func_2[:,0], emp_func_2[:,1], label = 'Y')\n",
    "    ax.legend(loc='best', frameon=False)\n",
    "    plt.savefig('lab2_im/ECDF_X_Y.png')\n",
    "    "
   ]
  },
  {
   "cell_type": "code",
   "execution_count": 14,
   "metadata": {},
   "outputs": [],
   "source": [
    "def task_3(dist_1:distr, dist_2:distr, alpha, doc):\n",
    "    \n",
    "    fig, ax = plt.subplots(1, 1)\n",
    "    \n",
    "    x_left = max(min(dist_1.data), min(dist_2.data))\n",
    "    x_right = min(max(dist_1.data), max(dist_2.data))\n",
    "    hist_1 = ax.hist(dist_1.data, bins = 15, density = False, label = 'X', range = (x_left, x_right))\n",
    "    hist_2 = ax.hist(dist_2.data, bins = 15, density = False, histtype = 'step', label = 'Y', range = (x_left, x_right))\n",
    "    \n",
    "    z1 = chi2_two_sample_test(hist_1[0], hist_2[0])\n",
    "    z2 = stats.ks_2samp(dist_1.data, dist_2.data)\n",
    "    if dist_1.n == dist_2.n:\n",
    "        z3 = sign_test(np.array(sorted(dist_1.data))-np.array(sorted(dist_2.data)))\n",
    "    else:\n",
    "        size = min(dist_1.n, dist_2.n)\n",
    "        z3 = sign_test(np.array(sorted(dist_1.data[:size]))-np.array(sorted(dist_2.data[:size])))\n",
    "    z4 = mannwhitneyu(dist_1.data, dist_2.data)\n",
    "    \n",
    "    doc.tables[7].rows[1].cells[2].text = str(round(z1[0], 3))\n",
    "    doc.tables[7].rows[2].cells[2].text = str(round(z2[0], 3))\n",
    "    doc.tables[7].rows[3].cells[2].text = str(round(z3[0], 3))\n",
    "    doc.tables[7].rows[4].cells[2].text = str(round(z4[0], 3))\n",
    "    \n",
    "    doc.tables[7].rows[1].cells[3].text = \"{:.3e}\".format(z1[1])\n",
    "    doc.tables[7].rows[2].cells[3].text = \"{:.3e}\".format(z2[1])\n",
    "    doc.tables[7].rows[3].cells[3].text = \"{:.3e}\".format(z3[1])\n",
    "    doc.tables[7].rows[4].cells[3].text = \"{:.3e}\".format(z4[1])\n",
    "    \n",
    "    p_arr = [z1[1], z2[1], z3[1], z4[1]]\n",
    "    \n",
    "    for val in enumerate(p_arr):\n",
    "        \n",
    "        if val[1] < alpha:\n",
    "            \n",
    "            doc.tables[7].rows[val[0] + 1].cells[4].text = 'H0 отверг'\n",
    "            if dist_1.name == dist_2.name and dist_1.args == dist_2.args:\n",
    "                doc.tables[7].rows[val[0] + 1].cells[5].text = 'Ош. 1го рода'\n",
    "            else:\n",
    "                doc.tables[7].rows[val[0] + 1].cells[5].text = 'Нет ош.'\n",
    "                \n",
    "        else:\n",
    "            \n",
    "            doc.tables[7].rows[val[0] + 1].cells[4].text = 'H0 приним'\n",
    "            \n",
    "            if dist_1.name == dist_2.name and dist_1.args == dist_2.args:\n",
    "                doc.tables[7].rows[val[0] + 1].cells[5].text = 'Нет ош.'\n",
    "            else:\n",
    "                doc.tables[7].rows[val[0] + 1].cells[5].text = 'Ош. 2го рода'"
   ]
  },
  {
   "cell_type": "code",
   "execution_count": 15,
   "metadata": {},
   "outputs": [
    {
     "name": "stdout",
     "output_type": "stream",
     "text": [
      "r (2, 6) 50 sample_mean=3.8 sample_var=1.35\n",
      "r (2, 6) 50 sample_mean=4.16 sample_var=1.51\n"
     ]
    }
   ],
   "source": [
    "doc = docx.Document('ms_otchet2.docx')\n",
    "d_1 = distr(712, 'r', 50, 2, 6)\n",
    "d_2 = distr(713, 'r', 50, 2, 6)\n",
    "print(d_1, d_2, sep = '\\n')"
   ]
  },
  {
   "cell_type": "code",
   "execution_count": 16,
   "metadata": {},
   "outputs": [
    {
     "data": {
      "image/png": "[encoded data removed]",
      "text/plain": [
       "<Figure size 432x288 with 1 Axes>"
      ]
     },
     "metadata": {
      "needs_background": "light"
     },
     "output_type": "display_data"
    },
    {
     "data": {
      "image/png": "[encoded data removed]",
      "text/plain": [
       "<Figure size 432x288 with 1 Axes>"
      ]
     },
     "metadata": {
      "needs_background": "light"
     },
     "output_type": "display_data"
    },
    {
     "data": {
      "image/png": "[encoded data removed]",
      "text/plain": [
       "<Figure size 1116x756 with 4 Axes>"
      ]
     },
     "metadata": {
      "needs_background": "light"
     },
     "output_type": "display_data"
    },
    {
     "data": {
      "image/png": "[encoded data removed]",
      "text/plain": [
       "<Figure size 432x288 with 1 Axes>"
      ]
     },
     "metadata": {
      "needs_background": "light"
     },
     "output_type": "display_data"
    },
    {
     "data": {
      "image/png": "[encoded data removed]",
      "text/plain": [
       "<Figure size 432x288 with 1 Axes>"
      ]
     },
     "metadata": {
      "needs_background": "light"
     },
     "output_type": "display_data"
    },
    {
     "data": {
      "image/png": "[encoded data removed]",
      "text/plain": [
       "<Figure size 432x288 with 1 Axes>"
      ]
     },
     "metadata": {
      "needs_background": "light"
     },
     "output_type": "display_data"
    }
   ],
   "source": [
    "task_1(d_1, d_2, doc)\n",
    "task_2(d_1, 0.05, doc)\n",
    "task_3(d_1, d_2, 0.05, doc)\n",
    "graphics(d_1, d_2)\n",
    "doc.save('lab2_nik.docx')"
   ]
  },
  {
   "cell_type": "code",
   "execution_count": null,
   "metadata": {},
   "outputs": [],
   "source": []
  },
  {
   "cell_type": "code",
   "execution_count": null,
   "metadata": {},
   "outputs": [],
   "source": []
  }
 ],
 "metadata": {
  "kernelspec": {
   "display_name": "Python 3",
   "language": "python",
   "name": "python3"
  },
  "language_info": {
   "codemirror_mode": {
    "name": "ipython",
    "version": 3
   },
   "file_extension": ".py",
   "mimetype": "text/x-python",
   "name": "python",
   "nbconvert_exporter": "python",
   "pygments_lexer": "ipython3",
   "version": "3.8.3"
  }
 },
 "nbformat": 4,
 "nbformat_minor": 2
}
