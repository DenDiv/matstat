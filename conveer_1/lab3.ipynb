{
 "cells": [
  {
   "cell_type": "code",
   "execution_count": 1,
   "metadata": {},
   "outputs": [],
   "source": [
    "import random\n",
    "import numpy as np\n",
    "import pandas as pd\n",
    "import scipy\n",
    "from scipy import stats\n",
    "from matplotlib import pyplot as plt\n",
    "from scipy.stats import f\n",
    "from scipy.stats import chi2\n",
    "from statsmodels.stats.descriptivestats import sign_test\n",
    "from scipy.stats import mannwhitneyu\n",
    "from statsmodels.stats.multicomp import pairwise_tukeyhsd, MultiComparison\n",
    "import docx\n",
    "%matplotlib inline"
   ]
  },
  {
   "cell_type": "code",
   "execution_count": 2,
   "metadata": {},
   "outputs": [],
   "source": [
    "class distr:\n",
    "    def __init__(self, random_state, name, n, *args):\n",
    "        self.name = name\n",
    "        self.args = args\n",
    "        self.n = n\n",
    "        \n",
    "        if name == 'norm':\n",
    "            self.data = stats.norm.rvs(args[0], args[1], size = n, random_state = random_state)\n",
    "            self.r_mean = args[0]\n",
    "            self.r_var = args[1]**2\n",
    "            self.r_std = args[1]\n",
    "            \n",
    "        if name == 'chi2':\n",
    "            self.data = stats.chi2.rvs(args[0], size = n, random_state = random_state)\n",
    "            self.r_mean = args[0]\n",
    "            self.r_var = args[0]*2\n",
    "            self.r_std = np.sqrt(args[0]*2)\n",
    "            \n",
    "        if name == 'r':\n",
    "            self.data = stats.uniform(loc = args[0], scale = args[1] - args[0]).rvs(size = n, random_state = random_state)\n",
    "            self.r_mean = (args[0] + args[1])/2.\n",
    "            self.r_var = (args[1] - args[0])**2/12.\n",
    "            self.r_std = np.sqrt((args[1] - args[0])**2/12.)\n",
    "            \n",
    "        self.s_mean = self.data.mean()\n",
    "        self.s_var = self.data.var()\n",
    "        self.s_std = self.data.std()\n",
    "        \n",
    "        \n",
    "    def __str__(self):\n",
    "        return str(self.name) + ' ' + str(self.args) + ' ' + str(self.n) + \\\n",
    "                ' sample_mean=' + str(round(self.s_mean, 2)) + ' sample_var=' + str(round(self.s_var, 2))\n",
    "    \n",
    "    def z_test(self, m0):\n",
    "        z = (self.s_mean - m0)/(self.r_std/np.sqrt(self.n))\n",
    "        p_val = 2*(1 - stats.norm.cdf(abs(z)))\n",
    "        return (z, p_val)\n",
    "    \n",
    "    def t_test(self, m0):\n",
    "        z = (self.s_mean - m0)/(self.s_std/np.sqrt(self.n))\n",
    "        p_val = 2*(1 - stats.t.cdf(abs(z), self.n - 1))\n",
    "        return (z, p_val)\n",
    "    \n",
    "    def chi2_test0(self, v0):\n",
    "        z = np.sum((self.data - self.r_mean)**2)/v0\n",
    "        p_val = 2*min(1 - stats.chi2.cdf(z, self.n), stats.chi2.cdf(z, self.n))\n",
    "        return (z, p_val)\n",
    "    \n",
    "    def chi2_test1(self, v0):\n",
    "        z = self.s_var*(self.n - 1)/v0\n",
    "        p_val = 2*min(1 - stats.chi2.cdf(z, self.n - 1), stats.chi2.cdf(z, self.n - 1))\n",
    "        return (z, p_val)"
   ]
  },
  {
   "cell_type": "code",
   "execution_count": 3,
   "metadata": {},
   "outputs": [],
   "source": [
    "def disp_analyses_tabl(*args):\n",
    "    tabl = np.zeros((3, 3))\n",
    "    k = len(args) #num_of_groups\n",
    "    n = sum([len(args[i]) for i in range(k)])# general num of el\n",
    "    full_sample = np.concatenate([args[i] for i in range(k)], axis = 0)\n",
    "    n_i = [len(args[i]) for i in range(k)]\n",
    "    v_i = [np.var(args[i]) for i in range(k)]\n",
    "    m_i = [np.mean(args[i]) for i in range(k)]\n",
    "    m = np.mean(full_sample)\n",
    "    d_vn_gr = np.average(v_i, weights=n_i)\n",
    "    tabl[1][0] = d_vn_gr\n",
    "    tabl[1][1] = n - k\n",
    "    tabl[1][2] = d_vn_gr*(n/(n-k))\n",
    "    d_ob = np.var(full_sample)\n",
    "    tabl[2][0] = d_ob\n",
    "    tabl[2][1] = n - 1\n",
    "    tabl[2][2] = d_ob*(n/(n-1))\n",
    "    d_m_gr = np.average(np.array([m_i[i] - m for i in range(k)])**2, weights=n_i)\n",
    "    tabl[0][0] = d_m_gr\n",
    "    tabl[0][1] = k - 1\n",
    "    tabl[0][2] = d_m_gr*(n/(k-1))\n",
    "    return tabl"
   ]
  },
  {
   "cell_type": "code",
   "execution_count": 4,
   "metadata": {},
   "outputs": [],
   "source": [
    "def pooled_mean(args):\n",
    "    res = sum([len(args[i])*np.mean(args[i]) for i in range(len(args))])/sum([len(args[i]) for i in range(len(args))])\n",
    "    return res\n",
    "def pooled_var(args):\n",
    "    res = sum([(len(args[i])-1)*np.var(args[i]) for i in range(len(args))])/sum([(len(args[i])-1) for i in range(len(args))])\n",
    "    return res"
   ]
  },
  {
   "cell_type": "code",
   "execution_count": 5,
   "metadata": {},
   "outputs": [],
   "source": [
    "def task_1(doc, dist_arr, alpha):\n",
    "    \n",
    "    for i in range(len(dist_arr)):\n",
    "        doc.tables[0].rows[i+1].cells[1].text  = dist_arr[i].name \n",
    "        doc.tables[0].rows[i+1].cells[5].text  = str(dist_arr[i].n) \n",
    "        \n",
    "        if dist_arr[i].name == 'norm':\n",
    "            doc.tables[0].rows[i+1].cells[2].text  = 'm='+str(dist_arr[i].args[0])+'\\nstd='+str(dist_arr[i].args[1])\n",
    "            doc.tables[0].rows[i+1].cells[3].text  = str(dist_arr[i].args[0])\n",
    "            doc.tables[0].rows[i+1].cells[4].text  = str(round(dist_arr[i].args[1]**2))\n",
    "        \n",
    "        if dist_arr[i].name == 'chi2':\n",
    "            doc.tables[0].rows[i+1].cells[2].text  = 'число ст. своб='+str(dist_arr[i].args[0])\n",
    "            doc.tables[0].rows[i+1].cells[3].text  = str(dist_arr[i].args[0])\n",
    "            doc.tables[0].rows[i+1].cells[4].text  = str(round(dist_arr[i].args[0]*2))\n",
    "        \n",
    "        if dist_arr[i].name == 'r':\n",
    "            doc.tables[0].rows[i+1].cells[2].text  = 'a='+str(dist_arr[i].args[0])+'\\nb='+str(dist_arr[i].args[1])\n",
    "            doc.tables[0].rows[i+1].cells[3].text  = str(round((dist_arr[i].args[0] + dist_arr[i].args[1])/2., 2))\n",
    "            doc.tables[0].rows[i+1].cells[4].text  = str(round((dist_arr[i].args[1] - dist_arr[i].args[0])**2/12., 2))\n",
    "            \n",
    "    for i in range(len(dist_arr)):\n",
    "        doc.tables[1].rows[i+1].cells[1].text = str(round(dist_arr[i].s_mean, 2))\n",
    "        doc.tables[1].rows[i+1].cells[2].text = str(round(dist_arr[i].s_var, 2))\n",
    "        doc.tables[1].rows[i+1].cells[3].text = str(round(dist_arr[i].s_var**(0.5), 2))\n",
    "        \n",
    "    doc.tables[1].rows[6].cells[1].text = str(round(pooled_mean([dist_arr[i].data for i in range(len(dist_arr))]), 2))\n",
    "    doc.tables[1].rows[6].cells[2].text = str(round(pooled_var([dist_arr[i].data for i in range(len(dist_arr))]), 2))\n",
    "    doc.tables[1].rows[6].cells[3].text = str(round(np.sqrt(pooled_var([dist_arr[i].data for i in range(len(dist_arr))])), 2))\n",
    "    \n",
    "    z1 = stats.bartlett(*[dist_arr[i].data for i in range(len(dist_arr))])\n",
    "    \n",
    "    doc.tables[2].rows[1].cells[0].text = str(round(z1[0], 3))\n",
    "    doc.tables[2].rows[1].cells[1].text = \"{:.3e}\".format(z1[1])\n",
    "    \n",
    "    if z1[1] < alpha:  \n",
    "        doc.tables[2].rows[1].cells[2].text = 'H0 отверг'\n",
    "        \n",
    "        if sum([dist_arr[i+1].r_var == dist_arr[i].r_var for i in range(len(dist_arr)-1)]) == len(dist_arr)-1:\n",
    "            doc.tables[2].rows[1].cells[3].text = 'Ош. 1го рода'\n",
    "        else:\n",
    "            doc.tables[2].rows[1].cells[3].text = 'Нет ош.'\n",
    "    else:\n",
    "        doc.tables[2].rows[1].cells[2].text = 'H0 приним'\n",
    "        if sum([dist_arr[i+1].r_var == dist_arr[i].r_var for i in range(len(dist_arr)-1)]) == len(dist_arr)-1:\n",
    "            doc.tables[2].rows[1].cells[3].text = 'Нет ош.'\n",
    "        else:\n",
    "            doc.tables[2].rows[1].cells[3].text = 'Ош. 2го рода'\n",
    "            \n",
    "    z1 = stats.f_oneway(*[dist_arr[i].data for i in range(len(dist_arr))])\n",
    "    \n",
    "    doc.tables[4].rows[1].cells[0].text = str(round(z1[0], 3))\n",
    "    doc.tables[4].rows[1].cells[1].text = \"{:.3e}\".format(z1[1])\n",
    "    \n",
    "    if z1[1] < alpha:  \n",
    "        doc.tables[4].rows[1].cells[2].text = 'H0 отверг'\n",
    "        if sum([dist_arr[i+1].r_mean == dist_arr[i].r_mean for i in range(len(dist_arr)-1)]) == len(dist_arr)-1:\n",
    "            doc.tables[4].rows[1].cells[3].text = 'Ош. 1го рода'\n",
    "        else:\n",
    "            doc.tables[4].rows[1].cells[3].text = 'Нет ош.'\n",
    "    else:\n",
    "        doc.tables[4].rows[1].cells[2].text = 'H0 приним'\n",
    "        if sum([dist_arr[i+1].r_mean == dist_arr[i].r_mean for i in range(len(dist_arr)-1)]) == len(dist_arr)-1:\n",
    "            doc.tables[4].rows[1].cells[3].text = 'Нет ош.'\n",
    "        else:\n",
    "            doc.tables[4].rows[1].cells[3].text = 'Ош. 2го рода'\n",
    "    \n",
    "    "
   ]
  },
  {
   "cell_type": "code",
   "execution_count": 6,
   "metadata": {},
   "outputs": [],
   "source": [
    "def task_2(doc, dist_arr):\n",
    "    tabl = disp_analyses_tabl(*[dist_arr[i].data for i in range(len(dist_arr))])\n",
    "    for i in range(tabl.shape[0]):\n",
    "        for j in range(tabl.shape[1]):\n",
    "            doc.tables[3].rows[i+1].cells[j+1].text = str(round(tabl[i][j], 3))\n",
    "            \n",
    "    theta2 = tabl[0][0]/tabl[2][0]\n",
    "    theta = np.sqrt(theta2)\n",
    "    doc.paragraphs[44].text = u'Эмпирический коэффициент детерминации  = ' + str(round(theta2, 3))\n",
    "    doc.paragraphs[46].text = u'Эмпирическое корреляционное отношение  = ' + str(round(theta, 3))"
   ]
  },
  {
   "cell_type": "code",
   "execution_count": 7,
   "metadata": {},
   "outputs": [],
   "source": [
    "def graphics(dist_arr):\n",
    "    fig, ax = plt.subplots(1, 1)\n",
    "    ax.boxplot([dist_arr[i].data for i in range(len(dist_arr))])\n",
    "    plt.savefig('lab3_im/lab3_1.png')\n",
    "    \n",
    "    our_df = pd.DataFrame(np.concatenate([dist_arr[i].data for i in range(len(dist_arr))],axis=0), columns=['data'])\n",
    "    our_labels = []\n",
    "    for i in range(len(dist_arr)):\n",
    "        our_labels += dist_arr[i].n*[i]\n",
    "    our_df['label'] = our_labels\n",
    "    \n",
    "    res = pairwise_tukeyhsd(our_df['data'], our_df['label'])\n",
    "    mod = MultiComparison(our_df['data'], our_df['label'])\n",
    "    \n",
    "    pair_labels = []\n",
    "    for i in range(len(res.groupsunique)-1):\n",
    "        for j in range(len(res.groupsunique)):\n",
    "            if i<j:\n",
    "                pair_labels.append((res.groupsunique[i]+1, res.groupsunique[j]+1))\n",
    "    \n",
    "    fig, ax = plt.subplots(1, 1)\n",
    "    plt.plot(list(range(len(pair_labels))), res.meandiffs, 'o')\n",
    "    plt.errorbar(list(range(len(pair_labels))), res.meandiffs, yerr=np.abs(res.confint[:,1] - res.confint[:,0]), fmt = 'o')\n",
    "    xlim = -0.5, 5.5\n",
    "    plt.hlines(0, *xlim)\n",
    "    plt.xlim(*xlim)\n",
    "    plt.xticks(list(range(len(pair_labels))), pair_labels)\n",
    "    plt.title('Multiple Comparisons between all pairs of means')\n",
    "    plt.savefig('lab3_im/lab3_2.png')"
   ]
  },
  {
   "cell_type": "code",
   "execution_count": 8,
   "metadata": {},
   "outputs": [],
   "source": [
    "def task_3(doc, dist_arr, alpha):\n",
    "    pair_labels = []\n",
    "    for i in range(len(dist_arr)-1):\n",
    "        for j in range(i+1, len(dist_arr)):\n",
    "            if i<j:\n",
    "                pair_labels.append((i, j))\n",
    "                \n",
    "    for i in range(len(pair_labels)):\n",
    "        z1 = stats.ttest_ind(dist_arr[pair_labels[i][0]].data, dist_arr[pair_labels[i][1]].data)\n",
    "        doc.tables[5].rows[i+1].cells[0].text = 'm'+str(pair_labels[i][0]+1)+'='+'m'+str(pair_labels[i][1]+1)\n",
    "        doc.tables[5].rows[i+1].cells[1].text = str(round(z1[0],3))\n",
    "        doc.tables[5].rows[i+1].cells[2].text = \"{:.3e}\".format(z1[1])\n",
    "        \n",
    "        if z1[1] < alpha:  \n",
    "            doc.tables[5].rows[i+1].cells[3].text = 'H0 отверг'\n",
    "        \n",
    "            if dist_arr[pair_labels[i][0]].r_mean == dist_arr[pair_labels[i][1]].r_mean:\n",
    "                doc.tables[5].rows[i+1].cells[4].text = 'Ош. 1го рода'\n",
    "            else:\n",
    "                doc.tables[5].rows[i+1].cells[4].text = 'Нет ош.'\n",
    "        else:\n",
    "            doc.tables[5].rows[i+1].cells[3].text = 'H0 приним'\n",
    "            if dist_arr[pair_labels[i][0]].r_mean == dist_arr[pair_labels[i][1]].r_mean:\n",
    "                doc.tables[5].rows[i+1].cells[4].text = 'Нет ош.'\n",
    "            else:\n",
    "                doc.tables[5].rows[i+1].cells[4].text = 'Ош. 2го рода'"
   ]
  },
  {
   "cell_type": "code",
   "execution_count": 9,
   "metadata": {},
   "outputs": [
    {
     "name": "stdout",
     "output_type": "stream",
     "text": [
      "norm (1, 2) 100 sample_mean=1.33 sample_var=3.88\n",
      "r (0, 2) 150 sample_mean=1.01 sample_var=0.33\n",
      "norm (1, 3) 200 sample_mean=1.14 sample_var=8.28\n"
     ]
    }
   ],
   "source": [
    "doc = docx.Document('ms_otchet3.docx')\n",
    "d_1 = distr(504, 'norm', 100, 1, 2)\n",
    "d_2 = distr(505, 'r', 150, 0, 2)\n",
    "d_3 = distr(506, 'norm', 200, 1, 3)\n",
    "print(d_1, d_2, d_3, sep = '\\n')"
   ]
  },
  {
   "cell_type": "code",
   "execution_count": 10,
   "metadata": {},
   "outputs": [
    {
     "data": {
      "image/png": "[encoded data removed]",
      "text/plain": [
       "<Figure size 432x288 with 1 Axes>"
      ]
     },
     "metadata": {
      "needs_background": "light"
     },
     "output_type": "display_data"
    },
    {
     "data": {
      "image/png": "[encoded data removed]",
      "text/plain": [
       "<Figure size 432x288 with 1 Axes>"
      ]
     },
     "metadata": {
      "needs_background": "light"
     },
     "output_type": "display_data"
    }
   ],
   "source": [
    "task_1(doc, [d_1, d_2, d_3], 0.05)\n",
    "task_2(doc, [d_1, d_2, d_3])\n",
    "task_3(doc, [d_1, d_2, d_3], 0.05)\n",
    "graphics([d_1, d_2, d_3])"
   ]
  },
  {
   "cell_type": "code",
   "execution_count": 11,
   "metadata": {},
   "outputs": [],
   "source": [
    "doc.save('lab3_kat.docx')"
   ]
  },
  {
   "cell_type": "code",
   "execution_count": null,
   "metadata": {},
   "outputs": [],
   "source": []
  },
  {
   "cell_type": "code",
   "execution_count": null,
   "metadata": {},
   "outputs": [],
   "source": []
  },
  {
   "cell_type": "code",
   "execution_count": 10,
   "metadata": {},
   "outputs": [
    {
     "name": "stdout",
     "output_type": "stream",
     "text": [
      "r (2, 6) 100 sample_mean=4.0 sample_var=1.26\n",
      "r (2, 6) 250 sample_mean=3.94 sample_var=1.35\n",
      "r (0, 8) 100 sample_mean=4.1 sample_var=5.4\n",
      "norm (4, 1) 100 sample_mean=4.12 sample_var=0.94\n"
     ]
    }
   ],
   "source": [
    "doc = docx.Document('ms_otchet3.docx')\n",
    "d_1 = distr(543, 'r', 100, 2, 6)\n",
    "d_2 = distr(523, 'r', 250, 2, 6)\n",
    "d_3 = distr(553, 'r', 100, 0, 8)\n",
    "d_4 = distr(553, 'norm', 100, 4, 1)\n",
    "print(d_1, d_2, d_3, d_4, sep = '\\n')"
   ]
  },
  {
   "cell_type": "code",
   "execution_count": 11,
   "metadata": {},
   "outputs": [
    {
     "data": {
      "image/png": "[encoded data removed]",
      "text/plain": [
       "<Figure size 432x288 with 1 Axes>"
      ]
     },
     "metadata": {
      "needs_background": "light"
     },
     "output_type": "display_data"
    },
    {
     "data": {
      "image/png": "[encoded data removed]",
      "text/plain": [
       "<Figure size 432x288 with 1 Axes>"
      ]
     },
     "metadata": {
      "needs_background": "light"
     },
     "output_type": "display_data"
    }
   ],
   "source": [
    "task_1(doc, [d_1, d_2, d_3, d_4], 0.05)\n",
    "task_2(doc, [d_1, d_2, d_3, d_4])\n",
    "task_3(doc, [d_1, d_2, d_3, d_4], 0.05)\n",
    "graphics([d_1, d_2, d_3, d_4])"
   ]
  },
  {
   "cell_type": "code",
   "execution_count": 12,
   "metadata": {},
   "outputs": [],
   "source": [
    "doc.save('lab3_nik.docx')"
   ]
  },
  {
   "cell_type": "code",
   "execution_count": null,
   "metadata": {},
   "outputs": [],
   "source": []
  }
 ],
 "metadata": {
  "kernelspec": {
   "display_name": "Python 3",
   "language": "python",
   "name": "python3"
  },
  "language_info": {
   "codemirror_mode": {
    "name": "ipython",
    "version": 3
   },
   "file_extension": ".py",
   "mimetype": "text/x-python",
   "name": "python",
   "nbconvert_exporter": "python",
   "pygments_lexer": "ipython3",
   "version": "3.7.4"
  }
 },
 "nbformat": 4,
 "nbformat_minor": 2
}
