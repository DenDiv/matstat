{
 "cells": [
  {
   "cell_type": "code",
   "execution_count": 1,
   "metadata": {},
   "outputs": [
    {
     "name": "stderr",
     "output_type": "stream",
     "text": [
      "/home/dencerr/anaconda3/lib/python3.7/site-packages/statsmodels/compat/pandas.py:49: FutureWarning: The Panel class is removed from pandas. Accessing it from the top-level namespace will also be removed in the next version\n",
      "  data_klasses = (pandas.Series, pandas.DataFrame, pandas.Panel)\n"
     ]
    }
   ],
   "source": [
    "import numpy as np\n",
    "import pandas as pd\n",
    "from scipy import stats\n",
    "from matplotlib import pyplot as plt\n",
    "import scipy\n",
    "from statsmodels.stats.descriptivestats import sign_test\n",
    "import statsmodels.api as sm\n",
    "from sklearn.linear_model import LinearRegression\n",
    "from statsmodels.stats.outliers_influence import summary_table\n",
    "import itertools\n",
    "from sklearn.linear_model import Ridge\n",
    "%matplotlib inline"
   ]
  },
  {
   "cell_type": "code",
   "execution_count": 2,
   "metadata": {},
   "outputs": [],
   "source": [
    "def chi2_two_sample_test(X1, X2):\n",
    "    n1 = sum(X1)\n",
    "    n2 = sum(X2)\n",
    "    k1 = np.sqrt(n1/n2)\n",
    "    k2 = np.sqrt(n2/n1)\n",
    "    z = 0.\n",
    "    for i in range(len(X1)):\n",
    "        z+=(k1*X2[i] - k2*X1[i])**2/(X2[i]+X1[i])\n",
    "    if n1 != n2:\n",
    "        p_val = 1 - stats.chi2(len(X1) - 1).cdf(z)\n",
    "    else:\n",
    "        p_val = 1 - stats.chi2(len(X1)).cdf(z)\n",
    "    return (z, p_val)"
   ]
  },
  {
   "cell_type": "code",
   "execution_count": 3,
   "metadata": {},
   "outputs": [],
   "source": [
    "def pearsonr_ci(x,y,alpha=0.05):\n",
    "    ''' calculate Pearson correlation along with the confidence interval using scipy and numpy\n",
    "    Parameters\n",
    "    ----------\n",
    "    x, y : iterable object such as a list or np.array\n",
    "      Input for correlation calculation\n",
    "    alpha : float\n",
    "      Significance level. 0.05 by default\n",
    "    Returns\n",
    "    -------\n",
    "    r : float\n",
    "      Pearson's correlation coefficient\n",
    "    pval : float\n",
    "      The corresponding p value\n",
    "    lo, hi : float\n",
    "      The lower and upper bound of confidence intervals\n",
    "    '''\n",
    "\n",
    "    r, p = stats.pearsonr(x,y)\n",
    "    r_z = np.arctanh(r)\n",
    "    se = 1/np.sqrt(x.size-3)\n",
    "    z = stats.norm.ppf(1-alpha/2)\n",
    "    lo_z, hi_z = r_z-z*se, r_z+z*se\n",
    "    lo, hi = np.tanh((lo_z, hi_z))\n",
    "    return r, p, lo, hi"
   ]
  },
  {
   "cell_type": "code",
   "execution_count": 4,
   "metadata": {},
   "outputs": [],
   "source": [
    "def disp_analyses_tabl(*args):\n",
    "    tabl = np.zeros((3, 3))\n",
    "    k = len(args) #num_of_groups\n",
    "    n = sum([len(args[i]) for i in range(k)])# general num of el\n",
    "    full_sample = np.concatenate([args[i] for i in range(k)], axis = 0)\n",
    "    n_i = [len(args[i]) for i in range(k)]\n",
    "    v_i = [np.var(args[i]) for i in range(k)]\n",
    "    m_i = [np.mean(args[i]) for i in range(k)]\n",
    "    m = np.mean(full_sample)\n",
    "    d_vn_gr = np.average(v_i, weights=n_i)\n",
    "    tabl[1][0] = d_vn_gr\n",
    "    tabl[1][1] = n - k\n",
    "    tabl[1][2] = d_vn_gr*(n/(n-k))\n",
    "    d_ob = np.var(full_sample)\n",
    "    tabl[2][0] = d_ob\n",
    "    tabl[2][1] = n - 1\n",
    "    tabl[2][2] = d_ob*(n/(n-1))\n",
    "    d_m_gr = np.average(np.array([m_i[i] - m for i in range(k)])**2, weights=n_i)\n",
    "    tabl[0][0] = d_m_gr\n",
    "    tabl[0][1] = k - 1\n",
    "    tabl[0][2] = d_m_gr*(n/(k-1))\n",
    "    return tabl"
   ]
  },
  {
   "cell_type": "code",
   "execution_count": 5,
   "metadata": {},
   "outputs": [],
   "source": [
    "def count_hi_stat_norm(hist, mean, std, num_el):\n",
    "    # добавлены в параметры в norm\n",
    "    observed_frequences = hist[0] * (hist[1][1] - hist[1][0]) * num_el\n",
    "    expected_frequences = stats.norm(mean, std).cdf(hist[1])\n",
    "    expected_frequences = [expected_frequences[i + 1] - expected_frequences[i] for i in range(len(hist[1]) - 1)]\n",
    "    print(expected_frequences)\n",
    "    expected_frequences = np.array(expected_frequences)*num_el\n",
    "    return stats.chisquare(observed_frequences, expected_frequences, ddof = 2)"
   ]
  },
  {
   "cell_type": "code",
   "execution_count": 6,
   "metadata": {},
   "outputs": [],
   "source": [
    "def emp_func_distr(X):\n",
    "    emp_func = np.zeros((len(X),2))\n",
    "    for i in range(len(X)):\n",
    "        emp_func[i][0] = X[i]\n",
    "        emp_func[i][1] = sum(X<X[i])\n",
    "    emp_func[:,1] = emp_func[:,1]/len(X)\n",
    "    emp_func = np.array(sorted(emp_func.tolist(), key = lambda x: x[0]))\n",
    "    return emp_func"
   ]
  },
  {
   "cell_type": "code",
   "execution_count": 7,
   "metadata": {},
   "outputs": [],
   "source": [
    "def mean_confidence_interval(data, confidence=0.95):\n",
    "    a = 1.0 * np.array(data)\n",
    "    n = len(a)\n",
    "    m, se = np.mean(a), scipy.stats.sem(a)\n",
    "    h = se * scipy.stats.t.ppf((1 + confidence) / 2., n-1)\n",
    "    return m, m-h, m+h"
   ]
  },
  {
   "cell_type": "code",
   "execution_count": 8,
   "metadata": {},
   "outputs": [],
   "source": [
    "def var_confidence_interval(data, confidence=0.95):\n",
    "    a = 1.0 * np.array(data)\n",
    "    n = len(a)\n",
    "    v = np.var(a)\n",
    "    return v, (n-1)*v/scipy.stats.chi2.ppf((1 - confidence) / 2., n-1), (n-1)*v/scipy.stats.chi2.ppf(1 - (1 - confidence) / 2., n-1)"
   ]
  },
  {
   "cell_type": "code",
   "execution_count": 9,
   "metadata": {},
   "outputs": [],
   "source": [
    "def diff_mean_confidence_interval(X1, X2, confidence=0.95):\n",
    "    X1 = 1.0 * np.array(X1)\n",
    "    X2 = 1.0 * np.array(X2)\n",
    "    n = len(X1)\n",
    "    m1, se1 = np.mean(X1), scipy.stats.sem(X1)\n",
    "    m2, se2 = np.mean(X2), scipy.stats.sem(X2)\n",
    "    m = m1 - m2\n",
    "    se = np.sqrt((se1**2 + se2**2)/2)\n",
    "    h = se * scipy.stats.t.ppf((1 + confidence) / 2., 2*(n-1)) * (2./n)**(0.5)\n",
    "    return m, m-h, m+h"
   ]
  },
  {
   "cell_type": "code",
   "execution_count": 10,
   "metadata": {},
   "outputs": [],
   "source": [
    "def diff_var_confidence_interval(X1, X2, confidence=0.95):\n",
    "    alpha = 1 - confidence\n",
    "    X1 = 1.0 * np.array(X1)\n",
    "    X2 = 1.0 * np.array(X2)\n",
    "    n = len(X1)\n",
    "    v1 = np.var(X1)\n",
    "    v2 = np.var(X2)\n",
    "    v = v1/v2\n",
    "    return v, v*stats.f.ppf(alpha/2, dfn = n-1, dfd = n-1), v*stats.f.ppf(1 - alpha/2, dfn = n-1, dfd = n-1)"
   ]
  },
  {
   "cell_type": "code",
   "execution_count": 11,
   "metadata": {},
   "outputs": [],
   "source": [
    "data = pd.read_excel('data_matstat_K5.xls', sheet_name= None)"
   ]
  },
  {
   "cell_type": "code",
   "execution_count": 12,
   "metadata": {},
   "outputs": [
    {
     "data": {
      "text/html": [
       "<div>\n",
       "<style scoped>\n",
       "    .dataframe tbody tr th:only-of-type {\n",
       "        vertical-align: middle;\n",
       "    }\n",
       "\n",
       "    .dataframe tbody tr th {\n",
       "        vertical-align: top;\n",
       "    }\n",
       "\n",
       "    .dataframe thead th {\n",
       "        text-align: right;\n",
       "    }\n",
       "</style>\n",
       "<table border=\"1\" class=\"dataframe\">\n",
       "  <thead>\n",
       "    <tr style=\"text-align: right;\">\n",
       "      <th></th>\n",
       "      <th>A1</th>\n",
       "      <th>A2</th>\n",
       "      <th>A3</th>\n",
       "      <th>A4</th>\n",
       "      <th>A5</th>\n",
       "      <th>A6</th>\n",
       "      <th>A7</th>\n",
       "      <th>A8</th>\n",
       "      <th>A9</th>\n",
       "      <th>A10</th>\n",
       "      <th>...</th>\n",
       "      <th>A13</th>\n",
       "      <th>A14</th>\n",
       "      <th>A15</th>\n",
       "      <th>A16</th>\n",
       "      <th>A17</th>\n",
       "      <th>A18</th>\n",
       "      <th>A19</th>\n",
       "      <th>A20</th>\n",
       "      <th>logA6</th>\n",
       "      <th>logA7</th>\n",
       "    </tr>\n",
       "  </thead>\n",
       "  <tbody>\n",
       "    <tr>\n",
       "      <td>0</td>\n",
       "      <td>1061</td>\n",
       "      <td>Alaska Pacific University</td>\n",
       "      <td>AK</td>\n",
       "      <td>IIB</td>\n",
       "      <td>454</td>\n",
       "      <td>382</td>\n",
       "      <td>362</td>\n",
       "      <td>382</td>\n",
       "      <td>N</td>\n",
       "      <td>567</td>\n",
       "      <td>...</td>\n",
       "      <td>487</td>\n",
       "      <td>N</td>\n",
       "      <td>6</td>\n",
       "      <td>11</td>\n",
       "      <td>9</td>\n",
       "      <td>4</td>\n",
       "      <td>32</td>\n",
       "      <td>N</td>\n",
       "      <td>5.945421</td>\n",
       "      <td>5.891644</td>\n",
       "    </tr>\n",
       "    <tr>\n",
       "      <td>1</td>\n",
       "      <td>1063</td>\n",
       "      <td>Univ.Alaska-Fairbanks</td>\n",
       "      <td>AK</td>\n",
       "      <td>I</td>\n",
       "      <td>686</td>\n",
       "      <td>560</td>\n",
       "      <td>432</td>\n",
       "      <td>508</td>\n",
       "      <td>Y</td>\n",
       "      <td>914</td>\n",
       "      <td>...</td>\n",
       "      <td>677</td>\n",
       "      <td>Y</td>\n",
       "      <td>74</td>\n",
       "      <td>125</td>\n",
       "      <td>118</td>\n",
       "      <td>40</td>\n",
       "      <td>404</td>\n",
       "      <td>Y</td>\n",
       "      <td>6.327937</td>\n",
       "      <td>6.068426</td>\n",
       "    </tr>\n",
       "    <tr>\n",
       "      <td>2</td>\n",
       "      <td>1065</td>\n",
       "      <td>Univ.Alaska-Southeast</td>\n",
       "      <td>AK</td>\n",
       "      <td>IIA</td>\n",
       "      <td>533</td>\n",
       "      <td>494</td>\n",
       "      <td>329</td>\n",
       "      <td>415</td>\n",
       "      <td>N</td>\n",
       "      <td>716</td>\n",
       "      <td>...</td>\n",
       "      <td>559</td>\n",
       "      <td>Y</td>\n",
       "      <td>9</td>\n",
       "      <td>26</td>\n",
       "      <td>20</td>\n",
       "      <td>9</td>\n",
       "      <td>70</td>\n",
       "      <td>N</td>\n",
       "      <td>6.202536</td>\n",
       "      <td>5.796058</td>\n",
       "    </tr>\n",
       "    <tr>\n",
       "      <td>3</td>\n",
       "      <td>11462</td>\n",
       "      <td>Univ.Alaska-Anchorage</td>\n",
       "      <td>AK</td>\n",
       "      <td>IIA</td>\n",
       "      <td>612</td>\n",
       "      <td>507</td>\n",
       "      <td>414</td>\n",
       "      <td>498</td>\n",
       "      <td>Y</td>\n",
       "      <td>825</td>\n",
       "      <td>...</td>\n",
       "      <td>670</td>\n",
       "      <td>Y</td>\n",
       "      <td>115</td>\n",
       "      <td>124</td>\n",
       "      <td>101</td>\n",
       "      <td>21</td>\n",
       "      <td>392</td>\n",
       "      <td>Y</td>\n",
       "      <td>6.228511</td>\n",
       "      <td>6.025866</td>\n",
       "    </tr>\n",
       "    <tr>\n",
       "      <td>4</td>\n",
       "      <td>1002</td>\n",
       "      <td>Alabama Agri.&amp;Mech. Univ.</td>\n",
       "      <td>AL</td>\n",
       "      <td>IIA</td>\n",
       "      <td>442</td>\n",
       "      <td>369</td>\n",
       "      <td>310</td>\n",
       "      <td>350</td>\n",
       "      <td>N</td>\n",
       "      <td>530</td>\n",
       "      <td>...</td>\n",
       "      <td>423</td>\n",
       "      <td>N</td>\n",
       "      <td>59</td>\n",
       "      <td>77</td>\n",
       "      <td>102</td>\n",
       "      <td>24</td>\n",
       "      <td>262</td>\n",
       "      <td>N</td>\n",
       "      <td>5.910797</td>\n",
       "      <td>5.736572</td>\n",
       "    </tr>\n",
       "  </tbody>\n",
       "</table>\n",
       "<p>5 rows × 22 columns</p>\n",
       "</div>"
      ],
      "text/plain": [
       "      A1                         A2  A3   A4   A5   A6   A7   A8 A9  A10  ...  \\\n",
       "0   1061  Alaska Pacific University  AK  IIB  454  382  362  382  N  567  ...   \n",
       "1   1063      Univ.Alaska-Fairbanks  AK    I  686  560  432  508  Y  914  ...   \n",
       "2   1065      Univ.Alaska-Southeast  AK  IIA  533  494  329  415  N  716  ...   \n",
       "3  11462      Univ.Alaska-Anchorage  AK  IIA  612  507  414  498  Y  825  ...   \n",
       "4   1002  Alabama Agri.&Mech. Univ.  AL  IIA  442  369  310  350  N  530  ...   \n",
       "\n",
       "   A13  A14  A15  A16  A17  A18  A19  A20     logA6     logA7  \n",
       "0  487    N    6   11    9    4   32    N  5.945421  5.891644  \n",
       "1  677    Y   74  125  118   40  404    Y  6.327937  6.068426  \n",
       "2  559    Y    9   26   20    9   70    N  6.202536  5.796058  \n",
       "3  670    Y  115  124  101   21  392    Y  6.228511  6.025866  \n",
       "4  423    N   59   77  102   24  262    N  5.910797  5.736572  \n",
       "\n",
       "[5 rows x 22 columns]"
      ]
     },
     "execution_count": 12,
     "metadata": {},
     "output_type": "execute_result"
    }
   ],
   "source": [
    "df1 = data['A - aaup']\n",
    "df1['logA6'] = np.log(df1['A6'])\n",
    "df1['logA7'] = np.log(df1['A7'])\n",
    "df1.head()"
   ]
  },
  {
   "cell_type": "code",
   "execution_count": 13,
   "metadata": {},
   "outputs": [],
   "source": [
    "n = len(df1)"
   ]
  },
  {
   "cell_type": "code",
   "execution_count": 14,
   "metadata": {},
   "outputs": [
    {
     "data": {
      "text/plain": [
       "(1073, 22)"
      ]
     },
     "execution_count": 14,
     "metadata": {},
     "output_type": "execute_result"
    }
   ],
   "source": [
    "df1.shape"
   ]
  },
  {
   "cell_type": "code",
   "execution_count": 15,
   "metadata": {},
   "outputs": [
    {
     "data": {
      "text/plain": [
       "0.15115982983682028"
      ]
     },
     "execution_count": 15,
     "metadata": {},
     "output_type": "execute_result"
    }
   ],
   "source": [
    "df1['logA7'].std()"
   ]
  },
  {
   "cell_type": "code",
   "execution_count": 16,
   "metadata": {},
   "outputs": [
    {
     "data": {
      "text/plain": [
       "-0.03016687360999614"
      ]
     },
     "execution_count": 16,
     "metadata": {},
     "output_type": "execute_result"
    }
   ],
   "source": [
    "stats.skew(df1['logA7'])"
   ]
  },
  {
   "cell_type": "code",
   "execution_count": 17,
   "metadata": {},
   "outputs": [
    {
     "data": {
      "text/plain": [
       "0.09497212376787978"
      ]
     },
     "execution_count": 17,
     "metadata": {},
     "output_type": "execute_result"
    }
   ],
   "source": [
    "stats.kurtosis(df1['logA7'])"
   ]
  },
  {
   "cell_type": "code",
   "execution_count": 18,
   "metadata": {},
   "outputs": [
    {
     "data": {
      "image/png": "[encoded data removed]",
      "text/plain": [
       "<Figure size 432x288 with 1 Axes>"
      ]
     },
     "metadata": {
      "needs_background": "light"
     },
     "output_type": "display_data"
    }
   ],
   "source": [
    "h = plt.hist(df1['A6'], bins = 9)"
   ]
  },
  {
   "cell_type": "code",
   "execution_count": 19,
   "metadata": {},
   "outputs": [
    {
     "data": {
      "text/plain": [
       "0.6654428037521204"
      ]
     },
     "execution_count": 19,
     "metadata": {},
     "output_type": "execute_result"
    }
   ],
   "source": [
    "stats.skew(h[0])"
   ]
  },
  {
   "cell_type": "code",
   "execution_count": 20,
   "metadata": {},
   "outputs": [
    {
     "data": {
      "text/plain": [
       "-0.9574269789288956"
      ]
     },
     "execution_count": 20,
     "metadata": {},
     "output_type": "execute_result"
    }
   ],
   "source": [
    "stats.kurtosis(h[0])"
   ]
  },
  {
   "cell_type": "code",
   "execution_count": 21,
   "metadata": {},
   "outputs": [
    {
     "data": {
      "text/plain": [
       "1.0"
      ]
     },
     "execution_count": 21,
     "metadata": {},
     "output_type": "execute_result"
    }
   ],
   "source": [
    "stats.hmean([1,1])"
   ]
  },
  {
   "cell_type": "code",
   "execution_count": 22,
   "metadata": {},
   "outputs": [
    {
     "name": "stdout",
     "output_type": "stream",
     "text": [
      "0.46930545049048894 1.3670927198713212\n",
      "0.42308485520054867 1.4523769233727097\n",
      "0.6001984537806413 1.0139188897117968\n",
      "0.5484489977799368 1.3213709473441793\n",
      "0.6100180378149573 1.2014322531405575\n",
      "0.571051734337231 1.2393058058810997\n",
      "0.6229791971017091 1.124491034608127\n",
      "0.6306318849192537 1.1529533996277392\n",
      "0.6096182580680355 1.1839330450036538\n",
      "0.5846350044826102 1.2274758652760631\n",
      "0.6065744288419234 1.1441398227600572\n",
      "0.6148936477799638 1.2014511925922153\n",
      "0.6201084262141897 1.1613731206887685\n",
      "0.6342318170010052 1.0859837264990517\n",
      "0.6351841686140337 1.1464925636595547\n",
      "0.6411183427539732 1.09594781910284\n"
     ]
    },
    {
     "data": {
      "image/png": "[encoded data removed]",
      "text/plain": [
       "<Figure size 432x288 with 1 Axes>"
      ]
     },
     "metadata": {
      "needs_background": "light"
     },
     "output_type": "display_data"
    }
   ],
   "source": [
    "st = []\n",
    "for i in range(4,20):\n",
    "    h = plt.hist(np.log(df1['logA7']), bins = i)\n",
    "    sk = stats.skew(h[0])\n",
    "    kurt = abs(stats.kurtosis(h[0]))\n",
    "    print(sk, kurt)\n",
    "    #print(stats.hmean(sk,kurt))\n",
    "    st.append((i, stats.hmean((sk,kurt))))"
   ]
  },
  {
   "cell_type": "code",
   "execution_count": 23,
   "metadata": {},
   "outputs": [
    {
     "data": {
      "text/plain": [
       "[(4, 0.6987417817292556),\n",
       " (5, 0.655282541443442),\n",
       " (6, 0.754037557823758),\n",
       " (7, 0.7751597405474632),\n",
       " (8, 0.8091807424004044),\n",
       " (9, 0.7818430493428956),\n",
       " (10, 0.8017699062064063),\n",
       " (11, 0.8153119247291545),\n",
       " (12, 0.8048247065230046),\n",
       " (13, 0.7920325074740446),\n",
       " (14, 0.7928260809791605),\n",
       " (15, 0.813463049550919),\n",
       " (16, 0.8085149794223541),\n",
       " (17, 0.8007896855641841),\n",
       " (18, 0.817470321836634),\n",
       " (19, 0.8089873200649708)]"
      ]
     },
     "execution_count": 23,
     "metadata": {},
     "output_type": "execute_result"
    }
   ],
   "source": [
    "st"
   ]
  },
  {
   "cell_type": "code",
   "execution_count": 24,
   "metadata": {},
   "outputs": [
    {
     "data": {
      "text/plain": [
       "[(5, 0.655282541443442),\n",
       " (4, 0.6987417817292556),\n",
       " (6, 0.754037557823758),\n",
       " (7, 0.7751597405474632),\n",
       " (9, 0.7818430493428956),\n",
       " (13, 0.7920325074740446),\n",
       " (14, 0.7928260809791605),\n",
       " (17, 0.8007896855641841),\n",
       " (10, 0.8017699062064063),\n",
       " (12, 0.8048247065230046),\n",
       " (16, 0.8085149794223541),\n",
       " (19, 0.8089873200649708),\n",
       " (8, 0.8091807424004044),\n",
       " (15, 0.813463049550919),\n",
       " (11, 0.8153119247291545),\n",
       " (18, 0.817470321836634)]"
      ]
     },
     "execution_count": 24,
     "metadata": {},
     "output_type": "execute_result"
    }
   ],
   "source": [
    "sorted(st, key = lambda x: x[1])"
   ]
  },
  {
   "cell_type": "code",
   "execution_count": 25,
   "metadata": {},
   "outputs": [
    {
     "data": {
      "image/png": "[encoded data removed]",
      "text/plain": [
       "<Figure size 432x288 with 1 Axes>"
      ]
     },
     "metadata": {
      "needs_background": "light"
     },
     "output_type": "display_data"
    }
   ],
   "source": [
    "h = plt.hist(df1['logA6'], bins = 9)"
   ]
  },
  {
   "cell_type": "code",
   "execution_count": 26,
   "metadata": {},
   "outputs": [
    {
     "data": {
      "text/plain": [
       "0.12686939850321632"
      ]
     },
     "execution_count": 26,
     "metadata": {},
     "output_type": "execute_result"
    }
   ],
   "source": [
    "h[1][1] - h[1][0]"
   ]
  },
  {
   "cell_type": "code",
   "execution_count": 27,
   "metadata": {},
   "outputs": [
    {
     "data": {
      "text/plain": [
       "array([5.45532112, 5.58219051, 5.70905991, 5.83592931, 5.96279871,\n",
       "       6.08966811, 6.21653751, 6.3434069 , 6.4702763 , 6.5971457 ])"
      ]
     },
     "execution_count": 27,
     "metadata": {},
     "output_type": "execute_result"
    }
   ],
   "source": [
    "h[1]"
   ]
  },
  {
   "cell_type": "code",
   "execution_count": 28,
   "metadata": {},
   "outputs": [
    {
     "data": {
      "text/plain": [
       "array([  8.,  28., 111., 206., 354., 217., 128.,  19.,   2.])"
      ]
     },
     "execution_count": 28,
     "metadata": {},
     "output_type": "execute_result"
    }
   ],
   "source": [
    "h[0]"
   ]
  },
  {
   "cell_type": "code",
   "execution_count": 29,
   "metadata": {},
   "outputs": [
    {
     "data": {
      "text/plain": [
       "array([0.00745573, 0.02609506, 0.10344828, 0.19198509, 0.32991612,\n",
       "       0.20223672, 0.11929171, 0.01770736, 0.00186393])"
      ]
     },
     "execution_count": 29,
     "metadata": {},
     "output_type": "execute_result"
    }
   ],
   "source": [
    "h[0]/len(df1)"
   ]
  },
  {
   "cell_type": "code",
   "execution_count": 30,
   "metadata": {},
   "outputs": [
    {
     "data": {
      "image/png": "[encoded data removed]",
      "text/plain": [
       "<Figure size 432x288 with 1 Axes>"
      ]
     },
     "metadata": {
      "needs_background": "light"
     },
     "output_type": "display_data"
    }
   ],
   "source": [
    "plt.bar(list(range(1,10)), h[0])\n",
    "plt.plot(list(range(1,10)), h[0], color='red')\n",
    "plt.savefig('bdz1.png')"
   ]
  },
  {
   "cell_type": "code",
   "execution_count": 31,
   "metadata": {},
   "outputs": [
    {
     "data": {
      "image/png": "[encoded data removed]",
      "text/plain": [
       "<Figure size 432x288 with 1 Axes>"
      ]
     },
     "metadata": {
      "needs_background": "light"
     },
     "output_type": "display_data"
    }
   ],
   "source": [
    "plt.bar(list(range(1,10)), h[0]/len(df1))\n",
    "plt.plot(list(range(1,10)), h[0]/len(df1), color='red')\n",
    "plt.savefig('bdz2.png')"
   ]
  },
  {
   "cell_type": "code",
   "execution_count": 32,
   "metadata": {},
   "outputs": [],
   "source": [
    "h_cumm = np.ones_like(h[0]) \n",
    "h_cumm[0] = h[0][0]\n",
    "for i in range(1, len(h[0])):\n",
    "    h_cumm[i] = h_cumm[i-1]+h[0][i]"
   ]
  },
  {
   "cell_type": "code",
   "execution_count": 33,
   "metadata": {},
   "outputs": [
    {
     "data": {
      "text/plain": [
       "array([   8.,   36.,  147.,  353.,  707.,  924., 1052., 1071., 1073.])"
      ]
     },
     "execution_count": 33,
     "metadata": {},
     "output_type": "execute_result"
    }
   ],
   "source": [
    "h_cumm"
   ]
  },
  {
   "cell_type": "code",
   "execution_count": 34,
   "metadata": {},
   "outputs": [
    {
     "data": {
      "text/plain": [
       "array([0.00745573, 0.03355079, 0.13699907, 0.32898416, 0.65890028,\n",
       "       0.861137  , 0.9804287 , 0.99813607, 1.        ])"
      ]
     },
     "execution_count": 34,
     "metadata": {},
     "output_type": "execute_result"
    }
   ],
   "source": [
    "h_cumm/len(df1)"
   ]
  },
  {
   "cell_type": "code",
   "execution_count": 35,
   "metadata": {},
   "outputs": [
    {
     "data": {
      "image/png": "[encoded data removed]",
      "text/plain": [
       "<Figure size 432x288 with 1 Axes>"
      ]
     },
     "metadata": {
      "needs_background": "light"
     },
     "output_type": "display_data"
    }
   ],
   "source": [
    "plt.bar(list(range(1,10)), h_cumm)\n",
    "plt.plot(list(range(1,10)), h_cumm, color='red')\n",
    "plt.savefig('bdz3.png')"
   ]
  },
  {
   "cell_type": "code",
   "execution_count": 36,
   "metadata": {},
   "outputs": [
    {
     "data": {
      "image/png": "[encoded data removed]",
      "text/plain": [
       "<Figure size 432x288 with 1 Axes>"
      ]
     },
     "metadata": {
      "needs_background": "light"
     },
     "output_type": "display_data"
    }
   ],
   "source": [
    "plt.bar(list(range(1,10)), h_cumm/len(df1))\n",
    "plt.plot(list(range(1,10)), h_cumm/len(df1), color='red')\n",
    "plt.savefig('bdz4.png')"
   ]
  },
  {
   "cell_type": "code",
   "execution_count": 37,
   "metadata": {},
   "outputs": [
    {
     "data": {
      "image/png": "[encoded data removed]",
      "text/plain": [
       "<Figure size 432x288 with 1 Axes>"
      ]
     },
     "metadata": {
      "needs_background": "light"
     },
     "output_type": "display_data"
    }
   ],
   "source": [
    "ecdf = emp_func_distr(df1['logA6'])\n",
    "x = np.linspace(5.4,6.6,100)\n",
    "plt.plot(ecdf[:,0], ecdf[:,1], label = 'ecdf logA6')\n",
    "plt.plot(x, stats.norm(df1['logA6'].mean(),df1['logA6'].std()).cdf(x), linestyle='dashed', linewidth = 1, label = 'norm(6,0.2)')\n",
    "plt.xlabel('x')\n",
    "plt.ylabel('cdf(x)')\n",
    "plt.legend(loc='best', frameon=False)\n",
    "plt.savefig('bdz5.png')"
   ]
  },
  {
   "cell_type": "code",
   "execution_count": 38,
   "metadata": {},
   "outputs": [
    {
     "data": {
      "text/plain": [
       "(6.026278483963737, 6.0178072087410435, 6.034749759186431)"
      ]
     },
     "execution_count": 38,
     "metadata": {},
     "output_type": "execute_result"
    }
   ],
   "source": [
    "mean_confidence_interval(df1['logA6'], 0.9)"
   ]
  },
  {
   "cell_type": "code",
   "execution_count": 39,
   "metadata": {},
   "outputs": [
    {
     "data": {
      "text/plain": [
       "(0.028384870810484925, 0.030949901412613598, 0.02612720499780913)"
      ]
     },
     "execution_count": 39,
     "metadata": {},
     "output_type": "execute_result"
    }
   ],
   "source": [
    "var_confidence_interval(df1['logA6'], 0.95)"
   ]
  },
  {
   "cell_type": "code",
   "execution_count": 40,
   "metadata": {},
   "outputs": [
    {
     "data": {
      "text/plain": [
       "(array([  2.,   7.,  43., 138., 236., 301., 225.,  89.,  26.,   6.]),\n",
       " array([5.29330482, 5.39958511, 5.50586539, 5.61214568, 5.71842596,\n",
       "        5.82470624, 5.93098653, 6.03726681, 6.14354709, 6.24982738,\n",
       "        6.35610766]),\n",
       " <a list of 10 Patch objects>)"
      ]
     },
     "execution_count": 40,
     "metadata": {},
     "output_type": "execute_result"
    },
    {
     "data": {
      "image/png": "[encoded data removed]",
      "text/plain": [
       "<Figure size 432x288 with 1 Axes>"
      ]
     },
     "metadata": {
      "needs_background": "light"
     },
     "output_type": "display_data"
    }
   ],
   "source": [
    "plt.hist(np.log(df1['A7']))"
   ]
  },
  {
   "cell_type": "code",
   "execution_count": 41,
   "metadata": {},
   "outputs": [
    {
     "data": {
      "text/plain": [
       "KstestResult(statistic=0.015949506820710446, pvalue=0.9477440999310549)"
      ]
     },
     "execution_count": 41,
     "metadata": {},
     "output_type": "execute_result"
    }
   ],
   "source": [
    "stats.kstest(df1['logA7'], 'norm', args=(df1['logA7'].mean(), df1['logA7'].std()))"
   ]
  },
  {
   "cell_type": "code",
   "execution_count": 42,
   "metadata": {},
   "outputs": [
    {
     "data": {
      "text/plain": [
       "(0.16531000714002442, 0.16496278512463172, 0.1656572291554171)"
      ]
     },
     "execution_count": 42,
     "metadata": {},
     "output_type": "execute_result"
    }
   ],
   "source": [
    "diff_mean_confidence_interval(df1['logA6'], df1['logA7'], 0.9)"
   ]
  },
  {
   "cell_type": "code",
   "execution_count": 43,
   "metadata": {},
   "outputs": [
    {
     "data": {
      "text/plain": [
       "(1.2434234966036897, 1.1245112033541362, 1.374910260826668)"
      ]
     },
     "execution_count": 43,
     "metadata": {},
     "output_type": "execute_result"
    }
   ],
   "source": [
    "diff_var_confidence_interval(df1['logA6'], df1['logA7'], 0.9)"
   ]
  },
  {
   "cell_type": "markdown",
   "metadata": {},
   "source": [
    "# 3"
   ]
  },
  {
   "cell_type": "code",
   "execution_count": 44,
   "metadata": {},
   "outputs": [],
   "source": [
    "m0 = 6.026\n",
    "z = (np.mean(df1['logA6']) - m0)/(np.std(df1['logA6'])/(len(df1)**(0.5)))"
   ]
  },
  {
   "cell_type": "code",
   "execution_count": 45,
   "metadata": {},
   "outputs": [
    {
     "data": {
      "text/plain": [
       "Ttest_1sampResult(statistic=0.05411954335115425, pvalue=0.9568500054878557)"
      ]
     },
     "execution_count": 45,
     "metadata": {},
     "output_type": "execute_result"
    }
   ],
   "source": [
    "stats.ttest_1samp(df1['logA6'], m0)"
   ]
  },
  {
   "cell_type": "code",
   "execution_count": 46,
   "metadata": {},
   "outputs": [
    {
     "data": {
      "text/plain": [
       "6.026278483963744"
      ]
     },
     "execution_count": 46,
     "metadata": {},
     "output_type": "execute_result"
    }
   ],
   "source": [
    "np.mean(df1['logA6'])"
   ]
  },
  {
   "cell_type": "code",
   "execution_count": 47,
   "metadata": {},
   "outputs": [
    {
     "data": {
      "text/plain": [
       "0.16855666475920913"
      ]
     },
     "execution_count": 47,
     "metadata": {},
     "output_type": "execute_result"
    }
   ],
   "source": [
    "df1['logA6'].std()"
   ]
  },
  {
   "cell_type": "code",
   "execution_count": 48,
   "metadata": {},
   "outputs": [
    {
     "name": "stdout",
     "output_type": "stream",
     "text": [
      "1146.3346900391548\n",
      "0.11318754889104654\n"
     ]
    }
   ],
   "source": [
    "sigma = 0.163\n",
    "st = (n-1)*df1['logA6'].var()/sigma**2\n",
    "print(st)\n",
    "p1 = stats.chi2.cdf(st, n-1)\n",
    "p2 = 1 - p1\n",
    "print(2*min(p1, p2))"
   ]
  },
  {
   "cell_type": "code",
   "execution_count": 49,
   "metadata": {},
   "outputs": [
    {
     "data": {
      "text/plain": [
       "Ttest_indResult(statistic=23.917015180946432, pvalue=2.9511421306442945e-112)"
      ]
     },
     "execution_count": 49,
     "metadata": {},
     "output_type": "execute_result"
    }
   ],
   "source": [
    "stats.ttest_ind(df1['logA6'], df1['logA7'])"
   ]
  },
  {
   "cell_type": "code",
   "execution_count": 50,
   "metadata": {},
   "outputs": [
    {
     "name": "stdout",
     "output_type": "stream",
     "text": [
      "1.2434234966036906\n",
      "0.0003676021357443826\n"
     ]
    }
   ],
   "source": [
    "F = df1['logA6'].var()/df1['logA7'].var()\n",
    "print(F)\n",
    "p1 = stats.f.cdf(F, dfn = n-1, dfd = n-1)\n",
    "p2 = 1 - p1\n",
    "print(2*min(p1, p2))"
   ]
  },
  {
   "cell_type": "code",
   "execution_count": 51,
   "metadata": {},
   "outputs": [
    {
     "data": {
      "image/png": "[encoded data removed]",
      "text/plain": [
       "<Figure size 432x288 with 1 Axes>"
      ]
     },
     "metadata": {
      "needs_background": "light"
     },
     "output_type": "display_data"
    }
   ],
   "source": [
    "h = plt.hist(df1['logA6'], bins = 9, density=True)"
   ]
  },
  {
   "cell_type": "code",
   "execution_count": 52,
   "metadata": {},
   "outputs": [
    {
     "name": "stdout",
     "output_type": "stream",
     "text": [
      "[0.003858312989476474, 0.025708857718157133, 0.09946793726739593, 0.22384451355586465, 0.29333621494917594, 0.22393048857647102, 0.09954441541136316, 0.0257385475234998, 0.0038642638929429207]\n"
     ]
    },
    {
     "data": {
      "text/plain": [
       "Power_divergenceResult(statistic=23.794675758200825, pvalue=0.0005696721861510937)"
      ]
     },
     "execution_count": 52,
     "metadata": {},
     "output_type": "execute_result"
    }
   ],
   "source": [
    "count_hi_stat_norm(h, df1['logA6'].mean(), df1['logA6'].std(), n)"
   ]
  },
  {
   "cell_type": "code",
   "execution_count": 53,
   "metadata": {},
   "outputs": [
    {
     "data": {
      "text/plain": [
       "KstestResult(statistic=0.02886130671637016, pvalue=0.3283675882338948)"
      ]
     },
     "execution_count": 53,
     "metadata": {},
     "output_type": "execute_result"
    }
   ],
   "source": [
    "stats.kstest(df1['logA6'], 'norm', args=(df1['logA6'].mean(), df1['logA6'].std()))"
   ]
  },
  {
   "cell_type": "code",
   "execution_count": 54,
   "metadata": {},
   "outputs": [
    {
     "data": {
      "image/png": "[encoded data removed]",
      "text/plain": [
       "<Figure size 432x288 with 1 Axes>"
      ]
     },
     "metadata": {
      "needs_background": "light"
     },
     "output_type": "display_data"
    }
   ],
   "source": [
    "\n",
    "x = np.linspace(stats.norm(df1['logA6'].mean(), df1['logA6'].std()).ppf(0.01),\n",
    "               stats.norm(df1['logA6'].mean(), df1['logA6'].std()).ppf(0.99), 100)\n",
    "fig, ax = plt.subplots(1, 1)\n",
    "ax.plot(x, stats.norm(df1['logA6'].mean(), df1['logA6'].std()).pdf(x),\n",
    "          'r-', lw=2, alpha=0.6, label='norm() pdf')\n",
    "ax.hist(df1['logA6'], bins = 9, density=True)\n",
    "ax.legend(loc='best', frameon=False)\n",
    "ax.set_xlabel('x')\n",
    "ax.set_ylabel('pdf(x)')\n",
    "plt.savefig('bdz6.png')\n",
    "plt.show()"
   ]
  },
  {
   "cell_type": "code",
   "execution_count": 14,
   "metadata": {},
   "outputs": [],
   "source": [
    "def harke_berr_test(X):\n",
    "    z = (stats.skew(X)/np.sqrt(6./len(X)))**2 + (stats.kurtosis(X)/np.sqrt(24./len(X)))**2\n",
    "    p_val = 1 - stats.chi2.cdf(z, 2)\n",
    "    return(z, p_val)"
   ]
  },
  {
   "cell_type": "code",
   "execution_count": 56,
   "metadata": {},
   "outputs": [
    {
     "data": {
      "text/plain": [
       "(0.9274274560998639, 0.6289435776025252)"
      ]
     },
     "execution_count": 56,
     "metadata": {},
     "output_type": "execute_result"
    }
   ],
   "source": [
    "harke_berr_test(h[0])"
   ]
  },
  {
   "cell_type": "markdown",
   "metadata": {},
   "source": [
    "# 5"
   ]
  },
  {
   "cell_type": "code",
   "execution_count": 57,
   "metadata": {},
   "outputs": [
    {
     "data": {
      "text/plain": [
       "(-9.5, 0.5826785482680464)"
      ]
     },
     "execution_count": 57,
     "metadata": {},
     "output_type": "execute_result"
    }
   ],
   "source": [
    "sign_test((df1['logA6'] - (df1['logA6'].mean() - df1['logA7'].mean())) - df1['logA7'])"
   ]
  },
  {
   "cell_type": "code",
   "execution_count": 15,
   "metadata": {},
   "outputs": [],
   "source": [
    "df1['logA6_shift'] = df1['logA6'] - (df1['logA6'].mean() - df1['logA7'].mean())"
   ]
  },
  {
   "cell_type": "code",
   "execution_count": 59,
   "metadata": {},
   "outputs": [
    {
     "data": {
      "image/png": "[encoded data removed]",
      "text/plain": [
       "<Figure size 432x288 with 1 Axes>"
      ]
     },
     "metadata": {
      "needs_background": "light"
     },
     "output_type": "display_data"
    }
   ],
   "source": [
    "n_bins = 9\n",
    "fig, ax = plt.subplots(1, 1)\n",
    "h1 = ax.hist(df1['logA6_shift'], bins = n_bins, density=False, label = 'logA6_shifted')\n",
    "h2 = ax.hist(df1['logA7'], bins = n_bins, density=False, histtype = 'step', range = (min(h1[1]), max(h1[1])), label = 'logA7')\n",
    "ax.legend(loc='best', frameon=False)\n",
    "plt.savefig('bdz7.png')\n",
    "plt.show()"
   ]
  },
  {
   "cell_type": "code",
   "execution_count": 60,
   "metadata": {},
   "outputs": [],
   "source": [
    "z = np.sum((h1[0] - h2[0])/(h1[0] + h2[0])) * n"
   ]
  },
  {
   "cell_type": "code",
   "execution_count": 61,
   "metadata": {},
   "outputs": [
    {
     "data": {
      "text/plain": [
       "959.5235104712082"
      ]
     },
     "execution_count": 61,
     "metadata": {},
     "output_type": "execute_result"
    }
   ],
   "source": [
    "z"
   ]
  },
  {
   "cell_type": "code",
   "execution_count": 62,
   "metadata": {},
   "outputs": [
    {
     "data": {
      "text/plain": [
       "0.0"
      ]
     },
     "execution_count": 62,
     "metadata": {},
     "output_type": "execute_result"
    }
   ],
   "source": [
    "1 - stats.chi2.cdf(z, n_bins - 1)"
   ]
  },
  {
   "cell_type": "code",
   "execution_count": 63,
   "metadata": {},
   "outputs": [
    {
     "data": {
      "text/plain": [
       "array([0.00186393, 0.01770736, 0.08853681, 0.22367195, 0.33457596,\n",
       "       0.23951538, 0.07269338, 0.0195713 , 0.00186393])"
      ]
     },
     "execution_count": 63,
     "metadata": {},
     "output_type": "execute_result"
    }
   ],
   "source": [
    "h2[0]/n"
   ]
  },
  {
   "cell_type": "markdown",
   "metadata": {},
   "source": [
    "# 6"
   ]
  },
  {
   "cell_type": "code",
   "execution_count": 13,
   "metadata": {},
   "outputs": [
    {
     "ename": "NameError",
     "evalue": "name 'df1' is not defined",
     "output_type": "error",
     "traceback": [
      "\u001b[0;31m---------------------------------------------------------------------------\u001b[0m",
      "\u001b[0;31mNameError\u001b[0m                                 Traceback (most recent call last)",
      "\u001b[0;32m<ipython-input-13-bea044e15680>\u001b[0m in \u001b[0;36m<module>\u001b[0;34m\u001b[0m\n\u001b[0;32m----> 1\u001b[0;31m \u001b[0mcr_tab\u001b[0m \u001b[0;34m=\u001b[0m \u001b[0mpd\u001b[0m\u001b[0;34m.\u001b[0m\u001b[0mcrosstab\u001b[0m\u001b[0;34m(\u001b[0m\u001b[0mdf1\u001b[0m\u001b[0;34m[\u001b[0m\u001b[0;34m'A4'\u001b[0m\u001b[0;34m]\u001b[0m\u001b[0;34m,\u001b[0m \u001b[0mdf1\u001b[0m\u001b[0;34m[\u001b[0m\u001b[0;34m'A14'\u001b[0m\u001b[0;34m]\u001b[0m\u001b[0;34m,\u001b[0m  \u001b[0mmargins\u001b[0m\u001b[0;34m=\u001b[0m\u001b[0;32mTrue\u001b[0m\u001b[0;34m)\u001b[0m\u001b[0;34m\u001b[0m\u001b[0;34m\u001b[0m\u001b[0m\n\u001b[0m\u001b[1;32m      2\u001b[0m \u001b[0mcr_tab_val\u001b[0m \u001b[0;34m=\u001b[0m \u001b[0mcr_tab\u001b[0m\u001b[0;34m.\u001b[0m\u001b[0mvalues\u001b[0m\u001b[0;34m\u001b[0m\u001b[0;34m\u001b[0m\u001b[0m\n\u001b[1;32m      3\u001b[0m \u001b[0mcr_tab\u001b[0m\u001b[0;34m\u001b[0m\u001b[0;34m\u001b[0m\u001b[0m\n",
      "\u001b[0;31mNameError\u001b[0m: name 'df1' is not defined"
     ]
    }
   ],
   "source": [
    "cr_tab = pd.crosstab(df1['A4'], df1['A14'],  margins=True)\n",
    "cr_tab_val = cr_tab.values\n",
    "cr_tab"
   ]
  },
  {
   "cell_type": "code",
   "execution_count": 14,
   "metadata": {},
   "outputs": [
    {
     "ename": "NameError",
     "evalue": "name 'cr_tab' is not defined",
     "output_type": "error",
     "traceback": [
      "\u001b[0;31m---------------------------------------------------------------------------\u001b[0m",
      "\u001b[0;31mNameError\u001b[0m                                 Traceback (most recent call last)",
      "\u001b[0;32m<ipython-input-14-586410b607fb>\u001b[0m in \u001b[0;36m<module>\u001b[0;34m\u001b[0m\n\u001b[0;32m----> 1\u001b[0;31m \u001b[0mcr_tab\u001b[0m\u001b[0;34m.\u001b[0m\u001b[0mcolumns\u001b[0m\u001b[0;34m\u001b[0m\u001b[0;34m\u001b[0m\u001b[0m\n\u001b[0m",
      "\u001b[0;31mNameError\u001b[0m: name 'cr_tab' is not defined"
     ]
    }
   ],
   "source": [
    "cr_tab.columns"
   ]
  },
  {
   "cell_type": "code",
   "execution_count": 11,
   "metadata": {},
   "outputs": [
    {
     "ename": "NameError",
     "evalue": "name 'cr_tab' is not defined",
     "output_type": "error",
     "traceback": [
      "\u001b[0;31m---------------------------------------------------------------------------\u001b[0m",
      "\u001b[0;31mNameError\u001b[0m                                 Traceback (most recent call last)",
      "\u001b[0;32m<ipython-input-11-00c49f1fbe6d>\u001b[0m in \u001b[0;36m<module>\u001b[0;34m\u001b[0m\n\u001b[0;32m----> 1\u001b[0;31m \u001b[0mchi2\u001b[0m\u001b[0;34m,\u001b[0m \u001b[0mp\u001b[0m\u001b[0;34m,\u001b[0m \u001b[0mdof\u001b[0m\u001b[0;34m,\u001b[0m \u001b[0mex\u001b[0m \u001b[0;34m=\u001b[0m \u001b[0mscipy\u001b[0m\u001b[0;34m.\u001b[0m\u001b[0mstats\u001b[0m\u001b[0;34m.\u001b[0m\u001b[0mchi2_contingency\u001b[0m\u001b[0;34m(\u001b[0m\u001b[0mcr_tab\u001b[0m\u001b[0;34m)\u001b[0m\u001b[0;34m\u001b[0m\u001b[0;34m\u001b[0m\u001b[0m\n\u001b[0m\u001b[1;32m      2\u001b[0m \u001b[0mk1\u001b[0m \u001b[0;34m=\u001b[0m \u001b[0mcr_tab\u001b[0m\u001b[0;34m.\u001b[0m\u001b[0mshape\u001b[0m\u001b[0;34m[\u001b[0m\u001b[0;36m0\u001b[0m\u001b[0;34m]\u001b[0m\u001b[0;34m\u001b[0m\u001b[0;34m\u001b[0m\u001b[0m\n\u001b[1;32m      3\u001b[0m \u001b[0mk2\u001b[0m \u001b[0;34m=\u001b[0m \u001b[0mcr_tab\u001b[0m\u001b[0;34m.\u001b[0m\u001b[0mshape\u001b[0m\u001b[0;34m[\u001b[0m\u001b[0;36m1\u001b[0m\u001b[0;34m]\u001b[0m\u001b[0;34m\u001b[0m\u001b[0;34m\u001b[0m\u001b[0m\n",
      "\u001b[0;31mNameError\u001b[0m: name 'cr_tab' is not defined"
     ]
    }
   ],
   "source": [
    "chi2, p, dof, ex = scipy.stats.chi2_contingency(cr_tab)\n",
    "k1 = cr_tab.shape[0]\n",
    "k2 = cr_tab.shape[1]\n",
    "n = np.sum(np.sum(cr_tab,axis=1))\n",
    "round(np.sqrt(chi2 / (n*(min(k1, k2) - 1))), 4)"
   ]
  },
  {
   "cell_type": "code",
   "execution_count": 12,
   "metadata": {},
   "outputs": [
    {
     "ename": "NameError",
     "evalue": "name 'chi2' is not defined",
     "output_type": "error",
     "traceback": [
      "\u001b[0;31m---------------------------------------------------------------------------\u001b[0m",
      "\u001b[0;31mNameError\u001b[0m                                 Traceback (most recent call last)",
      "\u001b[0;32m<ipython-input-12-2114e4ebcb0e>\u001b[0m in \u001b[0;36m<module>\u001b[0;34m\u001b[0m\n\u001b[0;32m----> 1\u001b[0;31m \u001b[0mchi2\u001b[0m\u001b[0;34m\u001b[0m\u001b[0;34m\u001b[0m\u001b[0m\n\u001b[0m",
      "\u001b[0;31mNameError\u001b[0m: name 'chi2' is not defined"
     ]
    }
   ],
   "source": [
    "chi2"
   ]
  },
  {
   "cell_type": "code",
   "execution_count": 68,
   "metadata": {},
   "outputs": [
    {
     "data": {
      "text/plain": [
       "1.5946937132255872e-51"
      ]
     },
     "execution_count": 68,
     "metadata": {},
     "output_type": "execute_result"
    }
   ],
   "source": [
    "p"
   ]
  },
  {
   "cell_type": "code",
   "execution_count": 69,
   "metadata": {},
   "outputs": [
    {
     "data": {
      "text/plain": [
       "array([[  99.31034483,   80.68965517,  180.        ],\n",
       "       [ 198.06896552,  160.93103448,  359.        ],\n",
       "       [ 294.62068966,  239.37931034,  534.        ],\n",
       "       [ 592.        ,  481.        , 1073.        ]])"
      ]
     },
     "execution_count": 69,
     "metadata": {},
     "output_type": "execute_result"
    }
   ],
   "source": [
    "ex"
   ]
  },
  {
   "cell_type": "markdown",
   "metadata": {},
   "source": [
    "# 7"
   ]
  },
  {
   "cell_type": "code",
   "execution_count": 70,
   "metadata": {},
   "outputs": [
    {
     "data": {
      "text/plain": [
       "array(['I', 'IIA', 'IIB'], dtype=object)"
      ]
     },
     "execution_count": 70,
     "metadata": {},
     "output_type": "execute_result"
    }
   ],
   "source": [
    "un_gr = np.unique(df1['A4'])\n",
    "un_gr"
   ]
  },
  {
   "cell_type": "code",
   "execution_count": 71,
   "metadata": {},
   "outputs": [],
   "source": [
    "X = []\n",
    "for gr in un_gr:\n",
    "    X.append(df1[df1['A4'] == gr]['logA6'])"
   ]
  },
  {
   "cell_type": "code",
   "execution_count": 72,
   "metadata": {},
   "outputs": [
    {
     "data": {
      "text/plain": [
       "array([[8.61092113e-03, 2.00000000e+00, 4.61975919e+00],\n",
       "       [1.97739497e-02, 1.07000000e+03, 1.98293907e-02],\n",
       "       [2.83848708e-02, 1.07200000e+03, 2.84113492e-02]])"
      ]
     },
     "execution_count": 72,
     "metadata": {},
     "output_type": "execute_result"
    }
   ],
   "source": [
    "tabl = disp_analyses_tabl(*X)\n",
    "tabl"
   ]
  },
  {
   "cell_type": "code",
   "execution_count": 73,
   "metadata": {},
   "outputs": [
    {
     "data": {
      "text/plain": [
       "0.028384870810485303"
      ]
     },
     "execution_count": 73,
     "metadata": {},
     "output_type": "execute_result"
    }
   ],
   "source": [
    "tabl[0][0]+tabl[1][0]"
   ]
  },
  {
   "cell_type": "code",
   "execution_count": 74,
   "metadata": {},
   "outputs": [
    {
     "data": {
      "text/plain": [
       "0.3033630551725796"
      ]
     },
     "execution_count": 74,
     "metadata": {},
     "output_type": "execute_result"
    }
   ],
   "source": [
    "tabl[0][0]/tabl[2][0]"
   ]
  },
  {
   "cell_type": "code",
   "execution_count": 75,
   "metadata": {},
   "outputs": [
    {
     "data": {
      "text/plain": [
       "0.5507840367808235"
      ]
     },
     "execution_count": 75,
     "metadata": {},
     "output_type": "execute_result"
    }
   ],
   "source": [
    "np.sqrt(tabl[0][0]/tabl[2][0])"
   ]
  },
  {
   "cell_type": "code",
   "execution_count": 76,
   "metadata": {},
   "outputs": [
    {
     "data": {
      "text/plain": [
       "F_onewayResult(statistic=232.9753478083571, pvalue=1.0197153489530118e-84)"
      ]
     },
     "execution_count": 76,
     "metadata": {},
     "output_type": "execute_result"
    }
   ],
   "source": [
    "stats.f_oneway(*X)"
   ]
  },
  {
   "cell_type": "code",
   "execution_count": 77,
   "metadata": {},
   "outputs": [
    {
     "data": {
      "text/plain": [
       "BartlettResult(statistic=40.6781591321551, pvalue=1.4684189398806075e-09)"
      ]
     },
     "execution_count": 77,
     "metadata": {},
     "output_type": "execute_result"
    }
   ],
   "source": [
    "stats.bartlett(*X)"
   ]
  },
  {
   "cell_type": "markdown",
   "metadata": {},
   "source": [
    "# 8"
   ]
  },
  {
   "cell_type": "code",
   "execution_count": 78,
   "metadata": {},
   "outputs": [
    {
     "data": {
      "text/html": [
       "<div>\n",
       "<style scoped>\n",
       "    .dataframe tbody tr th:only-of-type {\n",
       "        vertical-align: middle;\n",
       "    }\n",
       "\n",
       "    .dataframe tbody tr th {\n",
       "        vertical-align: top;\n",
       "    }\n",
       "\n",
       "    .dataframe thead th {\n",
       "        text-align: right;\n",
       "    }\n",
       "</style>\n",
       "<table border=\"1\" class=\"dataframe\">\n",
       "  <thead>\n",
       "    <tr style=\"text-align: right;\">\n",
       "      <th></th>\n",
       "      <th>A1</th>\n",
       "      <th>A2</th>\n",
       "      <th>A3</th>\n",
       "      <th>A4</th>\n",
       "      <th>A5</th>\n",
       "      <th>A6</th>\n",
       "      <th>A7</th>\n",
       "      <th>A8</th>\n",
       "      <th>A9</th>\n",
       "      <th>A10</th>\n",
       "      <th>...</th>\n",
       "      <th>A14</th>\n",
       "      <th>A15</th>\n",
       "      <th>A16</th>\n",
       "      <th>A17</th>\n",
       "      <th>A18</th>\n",
       "      <th>A19</th>\n",
       "      <th>A20</th>\n",
       "      <th>logA6</th>\n",
       "      <th>logA7</th>\n",
       "      <th>logA6_shift</th>\n",
       "    </tr>\n",
       "  </thead>\n",
       "  <tbody>\n",
       "    <tr>\n",
       "      <td>0</td>\n",
       "      <td>1061</td>\n",
       "      <td>Alaska Pacific University</td>\n",
       "      <td>AK</td>\n",
       "      <td>IIB</td>\n",
       "      <td>454</td>\n",
       "      <td>382</td>\n",
       "      <td>362</td>\n",
       "      <td>382</td>\n",
       "      <td>N</td>\n",
       "      <td>567</td>\n",
       "      <td>...</td>\n",
       "      <td>N</td>\n",
       "      <td>6</td>\n",
       "      <td>11</td>\n",
       "      <td>9</td>\n",
       "      <td>4</td>\n",
       "      <td>32</td>\n",
       "      <td>N</td>\n",
       "      <td>5.945421</td>\n",
       "      <td>5.891644</td>\n",
       "      <td>5.780111</td>\n",
       "    </tr>\n",
       "    <tr>\n",
       "      <td>1</td>\n",
       "      <td>1063</td>\n",
       "      <td>Univ.Alaska-Fairbanks</td>\n",
       "      <td>AK</td>\n",
       "      <td>I</td>\n",
       "      <td>686</td>\n",
       "      <td>560</td>\n",
       "      <td>432</td>\n",
       "      <td>508</td>\n",
       "      <td>Y</td>\n",
       "      <td>914</td>\n",
       "      <td>...</td>\n",
       "      <td>Y</td>\n",
       "      <td>74</td>\n",
       "      <td>125</td>\n",
       "      <td>118</td>\n",
       "      <td>40</td>\n",
       "      <td>404</td>\n",
       "      <td>Y</td>\n",
       "      <td>6.327937</td>\n",
       "      <td>6.068426</td>\n",
       "      <td>6.162627</td>\n",
       "    </tr>\n",
       "    <tr>\n",
       "      <td>2</td>\n",
       "      <td>1065</td>\n",
       "      <td>Univ.Alaska-Southeast</td>\n",
       "      <td>AK</td>\n",
       "      <td>IIA</td>\n",
       "      <td>533</td>\n",
       "      <td>494</td>\n",
       "      <td>329</td>\n",
       "      <td>415</td>\n",
       "      <td>N</td>\n",
       "      <td>716</td>\n",
       "      <td>...</td>\n",
       "      <td>Y</td>\n",
       "      <td>9</td>\n",
       "      <td>26</td>\n",
       "      <td>20</td>\n",
       "      <td>9</td>\n",
       "      <td>70</td>\n",
       "      <td>N</td>\n",
       "      <td>6.202536</td>\n",
       "      <td>5.796058</td>\n",
       "      <td>6.037226</td>\n",
       "    </tr>\n",
       "    <tr>\n",
       "      <td>3</td>\n",
       "      <td>11462</td>\n",
       "      <td>Univ.Alaska-Anchorage</td>\n",
       "      <td>AK</td>\n",
       "      <td>IIA</td>\n",
       "      <td>612</td>\n",
       "      <td>507</td>\n",
       "      <td>414</td>\n",
       "      <td>498</td>\n",
       "      <td>Y</td>\n",
       "      <td>825</td>\n",
       "      <td>...</td>\n",
       "      <td>Y</td>\n",
       "      <td>115</td>\n",
       "      <td>124</td>\n",
       "      <td>101</td>\n",
       "      <td>21</td>\n",
       "      <td>392</td>\n",
       "      <td>Y</td>\n",
       "      <td>6.228511</td>\n",
       "      <td>6.025866</td>\n",
       "      <td>6.063201</td>\n",
       "    </tr>\n",
       "    <tr>\n",
       "      <td>4</td>\n",
       "      <td>1002</td>\n",
       "      <td>Alabama Agri.&amp;Mech. Univ.</td>\n",
       "      <td>AL</td>\n",
       "      <td>IIA</td>\n",
       "      <td>442</td>\n",
       "      <td>369</td>\n",
       "      <td>310</td>\n",
       "      <td>350</td>\n",
       "      <td>N</td>\n",
       "      <td>530</td>\n",
       "      <td>...</td>\n",
       "      <td>N</td>\n",
       "      <td>59</td>\n",
       "      <td>77</td>\n",
       "      <td>102</td>\n",
       "      <td>24</td>\n",
       "      <td>262</td>\n",
       "      <td>N</td>\n",
       "      <td>5.910797</td>\n",
       "      <td>5.736572</td>\n",
       "      <td>5.745487</td>\n",
       "    </tr>\n",
       "  </tbody>\n",
       "</table>\n",
       "<p>5 rows × 23 columns</p>\n",
       "</div>"
      ],
      "text/plain": [
       "      A1                         A2  A3   A4   A5   A6   A7   A8 A9  A10  ...  \\\n",
       "0   1061  Alaska Pacific University  AK  IIB  454  382  362  382  N  567  ...   \n",
       "1   1063      Univ.Alaska-Fairbanks  AK    I  686  560  432  508  Y  914  ...   \n",
       "2   1065      Univ.Alaska-Southeast  AK  IIA  533  494  329  415  N  716  ...   \n",
       "3  11462      Univ.Alaska-Anchorage  AK  IIA  612  507  414  498  Y  825  ...   \n",
       "4   1002  Alabama Agri.&Mech. Univ.  AL  IIA  442  369  310  350  N  530  ...   \n",
       "\n",
       "   A14  A15  A16  A17  A18  A19  A20     logA6     logA7 logA6_shift  \n",
       "0    N    6   11    9    4   32    N  5.945421  5.891644    5.780111  \n",
       "1    Y   74  125  118   40  404    Y  6.327937  6.068426    6.162627  \n",
       "2    Y    9   26   20    9   70    N  6.202536  5.796058    6.037226  \n",
       "3    Y  115  124  101   21  392    Y  6.228511  6.025866    6.063201  \n",
       "4    N   59   77  102   24  262    N  5.910797  5.736572    5.745487  \n",
       "\n",
       "[5 rows x 23 columns]"
      ]
     },
     "execution_count": 78,
     "metadata": {},
     "output_type": "execute_result"
    }
   ],
   "source": [
    "df1.head()"
   ]
  },
  {
   "cell_type": "code",
   "execution_count": 83,
   "metadata": {},
   "outputs": [
    {
     "data": {
      "text/plain": [
       "(0.9415911240358823, 0.0)"
      ]
     },
     "execution_count": 83,
     "metadata": {},
     "output_type": "execute_result"
    }
   ],
   "source": [
    "r_p = stats.pearsonr(df1['logA6'], df1['logA7'])\n",
    "r_p"
   ]
  },
  {
   "cell_type": "code",
   "execution_count": 88,
   "metadata": {},
   "outputs": [
    {
     "data": {
      "text/plain": [
       "SpearmanrResult(correlation=0.9424893824769129, pvalue=0.0)"
      ]
     },
     "execution_count": 88,
     "metadata": {},
     "output_type": "execute_result"
    }
   ],
   "source": [
    "r_p = stats.spearmanr(df1['logA6'], df1['logA7'])\n",
    "r_p"
   ]
  },
  {
   "cell_type": "code",
   "execution_count": 90,
   "metadata": {},
   "outputs": [
    {
     "data": {
      "text/plain": [
       "KendalltauResult(correlation=0.8019916322882887, pvalue=0.0)"
      ]
     },
     "execution_count": 90,
     "metadata": {},
     "output_type": "execute_result"
    }
   ],
   "source": [
    "tay = stats.kendalltau(df1['logA6'], df1['logA7'])\n",
    "tay"
   ]
  },
  {
   "cell_type": "code",
   "execution_count": 82,
   "metadata": {},
   "outputs": [
    {
     "data": {
      "text/plain": [
       "(0.9415911240358823, 0.0, 0.935610403438341, 0.9470315369972134)"
      ]
     },
     "execution_count": 82,
     "metadata": {},
     "output_type": "execute_result"
    }
   ],
   "source": [
    "pearsonr_ci(df1['logA6'], df1['logA7'], 0.1)"
   ]
  },
  {
   "cell_type": "code",
   "execution_count": 89,
   "metadata": {},
   "outputs": [
    {
     "data": {
      "text/plain": [
       "184.69356754877307"
      ]
     },
     "execution_count": 89,
     "metadata": {},
     "output_type": "execute_result"
    }
   ],
   "source": [
    "st = r_p[0]*(n-2)**(0.5)/(1 - r_p[0]**2)**(0.5)\n",
    "st"
   ]
  },
  {
   "cell_type": "code",
   "execution_count": 91,
   "metadata": {},
   "outputs": [
    {
     "data": {
      "text/plain": [
       "78.77962450449527"
      ]
     },
     "execution_count": 91,
     "metadata": {},
     "output_type": "execute_result"
    }
   ],
   "source": [
    "st = tay[0]/((2*(2*n+5))/(9*n*(n-1)))**(0.5)\n",
    "st"
   ]
  },
  {
   "cell_type": "code",
   "execution_count": 92,
   "metadata": {},
   "outputs": [
    {
     "data": {
      "text/html": [
       "<div>\n",
       "<style scoped>\n",
       "    .dataframe tbody tr th:only-of-type {\n",
       "        vertical-align: middle;\n",
       "    }\n",
       "\n",
       "    .dataframe tbody tr th {\n",
       "        vertical-align: top;\n",
       "    }\n",
       "\n",
       "    .dataframe thead th {\n",
       "        text-align: right;\n",
       "    }\n",
       "</style>\n",
       "<table border=\"1\" class=\"dataframe\">\n",
       "  <thead>\n",
       "    <tr style=\"text-align: right;\">\n",
       "      <th></th>\n",
       "      <th>A1</th>\n",
       "      <th>A5</th>\n",
       "      <th>A6</th>\n",
       "      <th>A7</th>\n",
       "      <th>A8</th>\n",
       "      <th>A10</th>\n",
       "      <th>A11</th>\n",
       "      <th>A12</th>\n",
       "      <th>A13</th>\n",
       "      <th>A15</th>\n",
       "      <th>A16</th>\n",
       "      <th>A17</th>\n",
       "      <th>A18</th>\n",
       "      <th>A19</th>\n",
       "      <th>logA6</th>\n",
       "      <th>logA7</th>\n",
       "      <th>logA6_shift</th>\n",
       "    </tr>\n",
       "  </thead>\n",
       "  <tbody>\n",
       "    <tr>\n",
       "      <td>A1</td>\n",
       "      <td>1.000000</td>\n",
       "      <td>-0.033328</td>\n",
       "      <td>-0.031947</td>\n",
       "      <td>-0.036907</td>\n",
       "      <td>-0.042877</td>\n",
       "      <td>-0.027034</td>\n",
       "      <td>-0.017398</td>\n",
       "      <td>-0.017096</td>\n",
       "      <td>-0.030557</td>\n",
       "      <td>-0.038898</td>\n",
       "      <td>-0.006683</td>\n",
       "      <td>-0.022305</td>\n",
       "      <td>0.028076</td>\n",
       "      <td>-0.023486</td>\n",
       "      <td>-0.031947</td>\n",
       "      <td>-0.036907</td>\n",
       "      <td>-0.031947</td>\n",
       "    </tr>\n",
       "    <tr>\n",
       "      <td>A5</td>\n",
       "      <td>-0.033328</td>\n",
       "      <td>1.000000</td>\n",
       "      <td>0.820784</td>\n",
       "      <td>0.765362</td>\n",
       "      <td>0.840527</td>\n",
       "      <td>0.907753</td>\n",
       "      <td>0.789869</td>\n",
       "      <td>0.739296</td>\n",
       "      <td>0.810051</td>\n",
       "      <td>0.503811</td>\n",
       "      <td>0.502880</td>\n",
       "      <td>0.441081</td>\n",
       "      <td>0.065927</td>\n",
       "      <td>0.502755</td>\n",
       "      <td>0.820784</td>\n",
       "      <td>0.765362</td>\n",
       "      <td>0.820784</td>\n",
       "    </tr>\n",
       "    <tr>\n",
       "      <td>A6</td>\n",
       "      <td>-0.031947</td>\n",
       "      <td>0.820784</td>\n",
       "      <td>1.000000</td>\n",
       "      <td>0.801992</td>\n",
       "      <td>0.812955</td>\n",
       "      <td>0.801450</td>\n",
       "      <td>0.880354</td>\n",
       "      <td>0.770205</td>\n",
       "      <td>0.786527</td>\n",
       "      <td>0.469794</td>\n",
       "      <td>0.478713</td>\n",
       "      <td>0.420215</td>\n",
       "      <td>0.065500</td>\n",
       "      <td>0.476927</td>\n",
       "      <td>1.000000</td>\n",
       "      <td>0.801992</td>\n",
       "      <td>1.000000</td>\n",
       "    </tr>\n",
       "    <tr>\n",
       "      <td>A7</td>\n",
       "      <td>-0.036907</td>\n",
       "      <td>0.765362</td>\n",
       "      <td>0.801992</td>\n",
       "      <td>1.000000</td>\n",
       "      <td>0.786878</td>\n",
       "      <td>0.748381</td>\n",
       "      <td>0.768683</td>\n",
       "      <td>0.860713</td>\n",
       "      <td>0.760740</td>\n",
       "      <td>0.503213</td>\n",
       "      <td>0.499595</td>\n",
       "      <td>0.449270</td>\n",
       "      <td>0.081404</td>\n",
       "      <td>0.507340</td>\n",
       "      <td>0.801992</td>\n",
       "      <td>1.000000</td>\n",
       "      <td>0.801992</td>\n",
       "    </tr>\n",
       "    <tr>\n",
       "      <td>A8</td>\n",
       "      <td>-0.042877</td>\n",
       "      <td>0.840527</td>\n",
       "      <td>0.812955</td>\n",
       "      <td>0.786878</td>\n",
       "      <td>1.000000</td>\n",
       "      <td>0.830287</td>\n",
       "      <td>0.797904</td>\n",
       "      <td>0.766454</td>\n",
       "      <td>0.908262</td>\n",
       "      <td>0.541015</td>\n",
       "      <td>0.486880</td>\n",
       "      <td>0.395593</td>\n",
       "      <td>0.012637</td>\n",
       "      <td>0.486615</td>\n",
       "      <td>0.812955</td>\n",
       "      <td>0.786878</td>\n",
       "      <td>0.812955</td>\n",
       "    </tr>\n",
       "    <tr>\n",
       "      <td>A10</td>\n",
       "      <td>-0.027034</td>\n",
       "      <td>0.907753</td>\n",
       "      <td>0.801450</td>\n",
       "      <td>0.748381</td>\n",
       "      <td>0.830287</td>\n",
       "      <td>1.000000</td>\n",
       "      <td>0.824330</td>\n",
       "      <td>0.763876</td>\n",
       "      <td>0.849436</td>\n",
       "      <td>0.492106</td>\n",
       "      <td>0.484654</td>\n",
       "      <td>0.416442</td>\n",
       "      <td>0.048965</td>\n",
       "      <td>0.482644</td>\n",
       "      <td>0.801450</td>\n",
       "      <td>0.748381</td>\n",
       "      <td>0.801450</td>\n",
       "    </tr>\n",
       "    <tr>\n",
       "      <td>A11</td>\n",
       "      <td>-0.017398</td>\n",
       "      <td>0.789869</td>\n",
       "      <td>0.880354</td>\n",
       "      <td>0.768683</td>\n",
       "      <td>0.797904</td>\n",
       "      <td>0.824330</td>\n",
       "      <td>1.000000</td>\n",
       "      <td>0.808098</td>\n",
       "      <td>0.828184</td>\n",
       "      <td>0.461491</td>\n",
       "      <td>0.459891</td>\n",
       "      <td>0.395127</td>\n",
       "      <td>0.047472</td>\n",
       "      <td>0.457976</td>\n",
       "      <td>0.880354</td>\n",
       "      <td>0.768683</td>\n",
       "      <td>0.880354</td>\n",
       "    </tr>\n",
       "    <tr>\n",
       "      <td>A12</td>\n",
       "      <td>-0.017096</td>\n",
       "      <td>0.739296</td>\n",
       "      <td>0.770205</td>\n",
       "      <td>0.860713</td>\n",
       "      <td>0.766454</td>\n",
       "      <td>0.763876</td>\n",
       "      <td>0.808098</td>\n",
       "      <td>1.000000</td>\n",
       "      <td>0.796502</td>\n",
       "      <td>0.500360</td>\n",
       "      <td>0.489888</td>\n",
       "      <td>0.430730</td>\n",
       "      <td>0.072563</td>\n",
       "      <td>0.496621</td>\n",
       "      <td>0.770205</td>\n",
       "      <td>0.860713</td>\n",
       "      <td>0.770205</td>\n",
       "    </tr>\n",
       "    <tr>\n",
       "      <td>A13</td>\n",
       "      <td>-0.030557</td>\n",
       "      <td>0.810051</td>\n",
       "      <td>0.786527</td>\n",
       "      <td>0.760740</td>\n",
       "      <td>0.908262</td>\n",
       "      <td>0.849436</td>\n",
       "      <td>0.828184</td>\n",
       "      <td>0.796502</td>\n",
       "      <td>1.000000</td>\n",
       "      <td>0.528407</td>\n",
       "      <td>0.472121</td>\n",
       "      <td>0.379061</td>\n",
       "      <td>0.003641</td>\n",
       "      <td>0.471186</td>\n",
       "      <td>0.786527</td>\n",
       "      <td>0.760740</td>\n",
       "      <td>0.786527</td>\n",
       "    </tr>\n",
       "    <tr>\n",
       "      <td>A15</td>\n",
       "      <td>-0.038898</td>\n",
       "      <td>0.503811</td>\n",
       "      <td>0.469794</td>\n",
       "      <td>0.503213</td>\n",
       "      <td>0.541015</td>\n",
       "      <td>0.492106</td>\n",
       "      <td>0.461491</td>\n",
       "      <td>0.500360</td>\n",
       "      <td>0.528407</td>\n",
       "      <td>1.000000</td>\n",
       "      <td>0.699714</td>\n",
       "      <td>0.640821</td>\n",
       "      <td>0.237074</td>\n",
       "      <td>0.797453</td>\n",
       "      <td>0.469794</td>\n",
       "      <td>0.503213</td>\n",
       "      <td>0.469794</td>\n",
       "    </tr>\n",
       "    <tr>\n",
       "      <td>A16</td>\n",
       "      <td>-0.006683</td>\n",
       "      <td>0.502880</td>\n",
       "      <td>0.478713</td>\n",
       "      <td>0.499595</td>\n",
       "      <td>0.486880</td>\n",
       "      <td>0.484654</td>\n",
       "      <td>0.459891</td>\n",
       "      <td>0.489888</td>\n",
       "      <td>0.472121</td>\n",
       "      <td>0.699714</td>\n",
       "      <td>1.000000</td>\n",
       "      <td>0.718819</td>\n",
       "      <td>0.268821</td>\n",
       "      <td>0.822551</td>\n",
       "      <td>0.478713</td>\n",
       "      <td>0.499595</td>\n",
       "      <td>0.478713</td>\n",
       "    </tr>\n",
       "    <tr>\n",
       "      <td>A17</td>\n",
       "      <td>-0.022305</td>\n",
       "      <td>0.441081</td>\n",
       "      <td>0.420215</td>\n",
       "      <td>0.449270</td>\n",
       "      <td>0.395593</td>\n",
       "      <td>0.416442</td>\n",
       "      <td>0.395127</td>\n",
       "      <td>0.430730</td>\n",
       "      <td>0.379061</td>\n",
       "      <td>0.640821</td>\n",
       "      <td>0.718819</td>\n",
       "      <td>1.000000</td>\n",
       "      <td>0.340146</td>\n",
       "      <td>0.804739</td>\n",
       "      <td>0.420215</td>\n",
       "      <td>0.449270</td>\n",
       "      <td>0.420215</td>\n",
       "    </tr>\n",
       "    <tr>\n",
       "      <td>A18</td>\n",
       "      <td>0.028076</td>\n",
       "      <td>0.065927</td>\n",
       "      <td>0.065500</td>\n",
       "      <td>0.081404</td>\n",
       "      <td>0.012637</td>\n",
       "      <td>0.048965</td>\n",
       "      <td>0.047472</td>\n",
       "      <td>0.072563</td>\n",
       "      <td>0.003641</td>\n",
       "      <td>0.237074</td>\n",
       "      <td>0.268821</td>\n",
       "      <td>0.340146</td>\n",
       "      <td>1.000000</td>\n",
       "      <td>0.327221</td>\n",
       "      <td>0.065500</td>\n",
       "      <td>0.081404</td>\n",
       "      <td>0.065500</td>\n",
       "    </tr>\n",
       "    <tr>\n",
       "      <td>A19</td>\n",
       "      <td>-0.023486</td>\n",
       "      <td>0.502755</td>\n",
       "      <td>0.476927</td>\n",
       "      <td>0.507340</td>\n",
       "      <td>0.486615</td>\n",
       "      <td>0.482644</td>\n",
       "      <td>0.457976</td>\n",
       "      <td>0.496621</td>\n",
       "      <td>0.471186</td>\n",
       "      <td>0.797453</td>\n",
       "      <td>0.822551</td>\n",
       "      <td>0.804739</td>\n",
       "      <td>0.327221</td>\n",
       "      <td>1.000000</td>\n",
       "      <td>0.476927</td>\n",
       "      <td>0.507340</td>\n",
       "      <td>0.476927</td>\n",
       "    </tr>\n",
       "    <tr>\n",
       "      <td>logA6</td>\n",
       "      <td>-0.031947</td>\n",
       "      <td>0.820784</td>\n",
       "      <td>1.000000</td>\n",
       "      <td>0.801992</td>\n",
       "      <td>0.812955</td>\n",
       "      <td>0.801450</td>\n",
       "      <td>0.880354</td>\n",
       "      <td>0.770205</td>\n",
       "      <td>0.786527</td>\n",
       "      <td>0.469794</td>\n",
       "      <td>0.478713</td>\n",
       "      <td>0.420215</td>\n",
       "      <td>0.065500</td>\n",
       "      <td>0.476927</td>\n",
       "      <td>1.000000</td>\n",
       "      <td>0.801992</td>\n",
       "      <td>1.000000</td>\n",
       "    </tr>\n",
       "    <tr>\n",
       "      <td>logA7</td>\n",
       "      <td>-0.036907</td>\n",
       "      <td>0.765362</td>\n",
       "      <td>0.801992</td>\n",
       "      <td>1.000000</td>\n",
       "      <td>0.786878</td>\n",
       "      <td>0.748381</td>\n",
       "      <td>0.768683</td>\n",
       "      <td>0.860713</td>\n",
       "      <td>0.760740</td>\n",
       "      <td>0.503213</td>\n",
       "      <td>0.499595</td>\n",
       "      <td>0.449270</td>\n",
       "      <td>0.081404</td>\n",
       "      <td>0.507340</td>\n",
       "      <td>0.801992</td>\n",
       "      <td>1.000000</td>\n",
       "      <td>0.801992</td>\n",
       "    </tr>\n",
       "    <tr>\n",
       "      <td>logA6_shift</td>\n",
       "      <td>-0.031947</td>\n",
       "      <td>0.820784</td>\n",
       "      <td>1.000000</td>\n",
       "      <td>0.801992</td>\n",
       "      <td>0.812955</td>\n",
       "      <td>0.801450</td>\n",
       "      <td>0.880354</td>\n",
       "      <td>0.770205</td>\n",
       "      <td>0.786527</td>\n",
       "      <td>0.469794</td>\n",
       "      <td>0.478713</td>\n",
       "      <td>0.420215</td>\n",
       "      <td>0.065500</td>\n",
       "      <td>0.476927</td>\n",
       "      <td>1.000000</td>\n",
       "      <td>0.801992</td>\n",
       "      <td>1.000000</td>\n",
       "    </tr>\n",
       "  </tbody>\n",
       "</table>\n",
       "</div>"
      ],
      "text/plain": [
       "                   A1        A5        A6        A7        A8       A10  \\\n",
       "A1           1.000000 -0.033328 -0.031947 -0.036907 -0.042877 -0.027034   \n",
       "A5          -0.033328  1.000000  0.820784  0.765362  0.840527  0.907753   \n",
       "A6          -0.031947  0.820784  1.000000  0.801992  0.812955  0.801450   \n",
       "A7          -0.036907  0.765362  0.801992  1.000000  0.786878  0.748381   \n",
       "A8          -0.042877  0.840527  0.812955  0.786878  1.000000  0.830287   \n",
       "A10         -0.027034  0.907753  0.801450  0.748381  0.830287  1.000000   \n",
       "A11         -0.017398  0.789869  0.880354  0.768683  0.797904  0.824330   \n",
       "A12         -0.017096  0.739296  0.770205  0.860713  0.766454  0.763876   \n",
       "A13         -0.030557  0.810051  0.786527  0.760740  0.908262  0.849436   \n",
       "A15         -0.038898  0.503811  0.469794  0.503213  0.541015  0.492106   \n",
       "A16         -0.006683  0.502880  0.478713  0.499595  0.486880  0.484654   \n",
       "A17         -0.022305  0.441081  0.420215  0.449270  0.395593  0.416442   \n",
       "A18          0.028076  0.065927  0.065500  0.081404  0.012637  0.048965   \n",
       "A19         -0.023486  0.502755  0.476927  0.507340  0.486615  0.482644   \n",
       "logA6       -0.031947  0.820784  1.000000  0.801992  0.812955  0.801450   \n",
       "logA7       -0.036907  0.765362  0.801992  1.000000  0.786878  0.748381   \n",
       "logA6_shift -0.031947  0.820784  1.000000  0.801992  0.812955  0.801450   \n",
       "\n",
       "                  A11       A12       A13       A15       A16       A17  \\\n",
       "A1          -0.017398 -0.017096 -0.030557 -0.038898 -0.006683 -0.022305   \n",
       "A5           0.789869  0.739296  0.810051  0.503811  0.502880  0.441081   \n",
       "A6           0.880354  0.770205  0.786527  0.469794  0.478713  0.420215   \n",
       "A7           0.768683  0.860713  0.760740  0.503213  0.499595  0.449270   \n",
       "A8           0.797904  0.766454  0.908262  0.541015  0.486880  0.395593   \n",
       "A10          0.824330  0.763876  0.849436  0.492106  0.484654  0.416442   \n",
       "A11          1.000000  0.808098  0.828184  0.461491  0.459891  0.395127   \n",
       "A12          0.808098  1.000000  0.796502  0.500360  0.489888  0.430730   \n",
       "A13          0.828184  0.796502  1.000000  0.528407  0.472121  0.379061   \n",
       "A15          0.461491  0.500360  0.528407  1.000000  0.699714  0.640821   \n",
       "A16          0.459891  0.489888  0.472121  0.699714  1.000000  0.718819   \n",
       "A17          0.395127  0.430730  0.379061  0.640821  0.718819  1.000000   \n",
       "A18          0.047472  0.072563  0.003641  0.237074  0.268821  0.340146   \n",
       "A19          0.457976  0.496621  0.471186  0.797453  0.822551  0.804739   \n",
       "logA6        0.880354  0.770205  0.786527  0.469794  0.478713  0.420215   \n",
       "logA7        0.768683  0.860713  0.760740  0.503213  0.499595  0.449270   \n",
       "logA6_shift  0.880354  0.770205  0.786527  0.469794  0.478713  0.420215   \n",
       "\n",
       "                  A18       A19     logA6     logA7  logA6_shift  \n",
       "A1           0.028076 -0.023486 -0.031947 -0.036907    -0.031947  \n",
       "A5           0.065927  0.502755  0.820784  0.765362     0.820784  \n",
       "A6           0.065500  0.476927  1.000000  0.801992     1.000000  \n",
       "A7           0.081404  0.507340  0.801992  1.000000     0.801992  \n",
       "A8           0.012637  0.486615  0.812955  0.786878     0.812955  \n",
       "A10          0.048965  0.482644  0.801450  0.748381     0.801450  \n",
       "A11          0.047472  0.457976  0.880354  0.768683     0.880354  \n",
       "A12          0.072563  0.496621  0.770205  0.860713     0.770205  \n",
       "A13          0.003641  0.471186  0.786527  0.760740     0.786527  \n",
       "A15          0.237074  0.797453  0.469794  0.503213     0.469794  \n",
       "A16          0.268821  0.822551  0.478713  0.499595     0.478713  \n",
       "A17          0.340146  0.804739  0.420215  0.449270     0.420215  \n",
       "A18          1.000000  0.327221  0.065500  0.081404     0.065500  \n",
       "A19          0.327221  1.000000  0.476927  0.507340     0.476927  \n",
       "logA6        0.065500  0.476927  1.000000  0.801992     1.000000  \n",
       "logA7        0.081404  0.507340  0.801992  1.000000     0.801992  \n",
       "logA6_shift  0.065500  0.476927  1.000000  0.801992     1.000000  "
      ]
     },
     "execution_count": 92,
     "metadata": {},
     "output_type": "execute_result"
    }
   ],
   "source": [
    "df1.corr('kendall')"
   ]
  },
  {
   "cell_type": "code",
   "execution_count": 39,
   "metadata": {},
   "outputs": [],
   "source": [
    "def kendall_w(expt_ratings):\n",
    "    if expt_ratings.ndim!=2:\n",
    "        raise 'ratings matrix must be 2-dimensional'\n",
    "    m = expt_ratings.shape[0] #raters\n",
    "    n = expt_ratings.shape[1] # items rated\n",
    "    denom = m**2*(n**3-n)\n",
    "    rating_sums = np.sum(expt_ratings, axis=0)\n",
    "    S = len(rating_sums)*np.var(rating_sums)\n",
    "    return 12*S/denom"
   ]
  },
  {
   "cell_type": "code",
   "execution_count": 42,
   "metadata": {},
   "outputs": [
    {
     "data": {
      "text/plain": [
       "array([[ 330.5, 1045.5,  909.5, ...,  335. ,  158. ,  498.5],\n",
       "       [ 625. ,  993. ,  350. , ...,  432. ,   78.5,  711.5],\n",
       "       [ 373.5,  860.5,  537.5, ...,  378.5,   83. ,  680.5]])"
      ]
     },
     "execution_count": 42,
     "metadata": {},
     "output_type": "execute_result"
    }
   ],
   "source": [
    "expt_ratings.rank(axis=1).values"
   ]
  },
  {
   "cell_type": "code",
   "execution_count": 40,
   "metadata": {},
   "outputs": [
    {
     "data": {
      "text/plain": [
       "0.9625150602590388"
      ]
     },
     "execution_count": 40,
     "metadata": {},
     "output_type": "execute_result"
    }
   ],
   "source": [
    "expt_ratings = df1[['A6', 'A7', 'A8']].T\n",
    "k_w = kendall_w(expt_ratings.rank(axis=1).values)\n",
    "k_w"
   ]
  },
  {
   "cell_type": "code",
   "execution_count": 134,
   "metadata": {},
   "outputs": [
    {
     "data": {
      "text/plain": [
       "1591.9743709226466"
      ]
     },
     "execution_count": 134,
     "metadata": {},
     "output_type": "execute_result"
    }
   ],
   "source": [
    "st = k_w*expt_ratings.shape[0]*(expt_ratings.shape[1]-1)\n",
    "st"
   ]
  },
  {
   "cell_type": "code",
   "execution_count": 135,
   "metadata": {},
   "outputs": [
    {
     "data": {
      "text/plain": [
       "0.0"
      ]
     },
     "execution_count": 135,
     "metadata": {},
     "output_type": "execute_result"
    }
   ],
   "source": [
    "1 - stats.chi2.cdf(st, expt_ratings.shape[1]-1)"
   ]
  },
  {
   "cell_type": "markdown",
   "metadata": {},
   "source": [
    "# 9.1"
   ]
  },
  {
   "cell_type": "code",
   "execution_count": 66,
   "metadata": {},
   "outputs": [
    {
     "data": {
      "text/html": [
       "<div>\n",
       "<style scoped>\n",
       "    .dataframe tbody tr th:only-of-type {\n",
       "        vertical-align: middle;\n",
       "    }\n",
       "\n",
       "    .dataframe tbody tr th {\n",
       "        vertical-align: top;\n",
       "    }\n",
       "\n",
       "    .dataframe thead th {\n",
       "        text-align: right;\n",
       "    }\n",
       "</style>\n",
       "<table border=\"1\" class=\"dataframe\">\n",
       "  <thead>\n",
       "    <tr style=\"text-align: right;\">\n",
       "      <th></th>\n",
       "      <th>A16</th>\n",
       "      <th>A11</th>\n",
       "    </tr>\n",
       "  </thead>\n",
       "  <tbody>\n",
       "    <tr>\n",
       "      <td>count</td>\n",
       "      <td>1073.000000</td>\n",
       "      <td>1073.000000</td>\n",
       "    </tr>\n",
       "    <tr>\n",
       "      <td>mean</td>\n",
       "      <td>77.666356</td>\n",
       "      <td>528.720410</td>\n",
       "    </tr>\n",
       "    <tr>\n",
       "      <td>std</td>\n",
       "      <td>90.997184</td>\n",
       "      <td>95.519251</td>\n",
       "    </tr>\n",
       "    <tr>\n",
       "      <td>min</td>\n",
       "      <td>6.000000</td>\n",
       "      <td>295.000000</td>\n",
       "    </tr>\n",
       "    <tr>\n",
       "      <td>25%</td>\n",
       "      <td>21.000000</td>\n",
       "      <td>462.000000</td>\n",
       "    </tr>\n",
       "    <tr>\n",
       "      <td>50%</td>\n",
       "      <td>43.000000</td>\n",
       "      <td>522.000000</td>\n",
       "    </tr>\n",
       "    <tr>\n",
       "      <td>75%</td>\n",
       "      <td>101.000000</td>\n",
       "      <td>587.000000</td>\n",
       "    </tr>\n",
       "    <tr>\n",
       "      <td>max</td>\n",
       "      <td>721.000000</td>\n",
       "      <td>909.000000</td>\n",
       "    </tr>\n",
       "  </tbody>\n",
       "</table>\n",
       "</div>"
      ],
      "text/plain": [
       "               A16          A11\n",
       "count  1073.000000  1073.000000\n",
       "mean     77.666356   528.720410\n",
       "std      90.997184    95.519251\n",
       "min       6.000000   295.000000\n",
       "25%      21.000000   462.000000\n",
       "50%      43.000000   522.000000\n",
       "75%     101.000000   587.000000\n",
       "max     721.000000   909.000000"
      ]
     },
     "execution_count": 66,
     "metadata": {},
     "output_type": "execute_result"
    }
   ],
   "source": [
    "df1[['A16', 'A11']].describe()"
   ]
  },
  {
   "cell_type": "code",
   "execution_count": 67,
   "metadata": {},
   "outputs": [
    {
     "data": {
      "text/plain": [
       "<matplotlib.axes._subplots.AxesSubplot at 0x7f5620784650>"
      ]
     },
     "execution_count": 67,
     "metadata": {},
     "output_type": "execute_result"
    },
    {
     "data": {
      "image/png": "[encoded data removed]",
      "text/plain": [
       "<Figure size 432x288 with 1 Axes>"
      ]
     },
     "metadata": {
      "needs_background": "light"
     },
     "output_type": "display_data"
    }
   ],
   "source": [
    "df1['A11'].hist()"
   ]
  },
  {
   "cell_type": "code",
   "execution_count": 14,
   "metadata": {},
   "outputs": [],
   "source": [
    "df1['A11'] = np.log(df1['A11'])\n",
    "df1['A16'] = np.log(df1['A16'])"
   ]
  },
  {
   "cell_type": "code",
   "execution_count": 15,
   "metadata": {},
   "outputs": [
    {
     "name": "stderr",
     "output_type": "stream",
     "text": [
      "/home/dencerr/anaconda3/lib/python3.7/site-packages/numpy/core/fromnumeric.py:2495: FutureWarning: Method .ptp is deprecated and will be removed in a future version. Use numpy.ptp instead.\n",
      "  return ptp(axis=axis, out=out, **kwargs)\n"
     ]
    }
   ],
   "source": [
    "model = sm.OLS(df1['A11'], sm.add_constant(df1['A16']))\n",
    "results = model.fit()"
   ]
  },
  {
   "cell_type": "code",
   "execution_count": 16,
   "metadata": {},
   "outputs": [
    {
     "name": "stdout",
     "output_type": "stream",
     "text": [
      "                            OLS Regression Results                            \n",
      "==============================================================================\n",
      "Dep. Variable:                    A11   R-squared:                       0.387\n",
      "Model:                            OLS   Adj. R-squared:                  0.386\n",
      "Method:                 Least Squares   F-statistic:                     675.8\n",
      "Date:                Mon, 09 Dec 2019   Prob (F-statistic):          6.72e-116\n",
      "Time:                        22:28:33   Log-Likelihood:                 568.81\n",
      "No. Observations:                1073   AIC:                            -1134.\n",
      "Df Residuals:                    1071   BIC:                            -1124.\n",
      "Df Model:                           1                                         \n",
      "Covariance Type:            nonrobust                                         \n",
      "==============================================================================\n",
      "                 coef    std err          t      P>|t|      [0.025      0.975]\n",
      "------------------------------------------------------------------------------\n",
      "const          5.8168      0.017    334.791      0.000       5.783       5.851\n",
      "A16            0.1138      0.004     25.996      0.000       0.105       0.122\n",
      "==============================================================================\n",
      "Omnibus:                       14.706   Durbin-Watson:                   1.288\n",
      "Prob(Omnibus):                  0.001   Jarque-Bera (JB):               14.923\n",
      "Skew:                           0.283   Prob(JB):                     0.000575\n",
      "Kurtosis:                       3.113   Cond. No.                         16.8\n",
      "==============================================================================\n",
      "\n",
      "Warnings:\n",
      "[1] Standard Errors assume that the covariance matrix of the errors is correctly specified.\n"
     ]
    }
   ],
   "source": [
    "print(results.summary())"
   ]
  },
  {
   "cell_type": "code",
   "execution_count": 101,
   "metadata": {},
   "outputs": [
    {
     "data": {
      "text/plain": [
       "const     0.000000e+00\n",
       "A16      6.716609e-116\n",
       "dtype: float64"
      ]
     },
     "execution_count": 101,
     "metadata": {},
     "output_type": "execute_result"
    }
   ],
   "source": [
    "results.pvalues"
   ]
  },
  {
   "cell_type": "code",
   "execution_count": 102,
   "metadata": {},
   "outputs": [
    {
     "data": {
      "text/plain": [
       "const    5.816814\n",
       "A16      0.113831\n",
       "dtype: float64"
      ]
     },
     "execution_count": 102,
     "metadata": {},
     "output_type": "execute_result"
    }
   ],
   "source": [
    "results.params"
   ]
  },
  {
   "cell_type": "code",
   "execution_count": 103,
   "metadata": {},
   "outputs": [
    {
     "data": {
      "text/plain": [
       "const    334.790557\n",
       "A16       25.995635\n",
       "dtype: float64"
      ]
     },
     "execution_count": 103,
     "metadata": {},
     "output_type": "execute_result"
    }
   ],
   "source": [
    "results.tvalues"
   ]
  },
  {
   "cell_type": "code",
   "execution_count": 104,
   "metadata": {},
   "outputs": [],
   "source": [
    "def regr_analyses_tab(res):\n",
    "    tabl = np.zeros((3,3))\n",
    "    n = res.nobs\n",
    "    tabl[0][2] = res.mse_model \n",
    "    tabl[1][2] = res.mse_resid\n",
    "    tabl[2][2] = res.mse_total\n",
    "    tabl[0][1] = res.df_model\n",
    "    tabl[1][1] = res.df_resid\n",
    "    tabl[2][1] = res.nobs - 1\n",
    "    tabl[0][0] = res.mse_model * res.df_model / n\n",
    "    tabl[1][0] = res.mse_resid * res.df_resid / n\n",
    "    tabl[2][0] = res.mse_total * (res.nobs - 1) / n\n",
    "    \n",
    "    return tabl"
   ]
  },
  {
   "cell_type": "code",
   "execution_count": 105,
   "metadata": {},
   "outputs": [
    {
     "data": {
      "text/plain": [
       "array([[1.27964356e-02, 1.00000000e+00, 1.37305754e+01],\n",
       "       [2.02804519e-02, 1.07100000e+03, 2.03183239e-02],\n",
       "       [3.30768875e-02, 1.07200000e+03, 3.31077428e-02]])"
      ]
     },
     "execution_count": 105,
     "metadata": {},
     "output_type": "execute_result"
    }
   ],
   "source": [
    "regr_analyses_tab(results)"
   ]
  },
  {
   "cell_type": "code",
   "execution_count": 106,
   "metadata": {},
   "outputs": [
    {
     "data": {
      "text/plain": [
       "0.6219882623956638"
      ]
     },
     "execution_count": 106,
     "metadata": {},
     "output_type": "execute_result"
    }
   ],
   "source": [
    "np.sqrt(results.rsquared)"
   ]
  },
  {
   "cell_type": "code",
   "execution_count": 107,
   "metadata": {},
   "outputs": [
    {
     "data": {
      "text/html": [
       "<div>\n",
       "<style scoped>\n",
       "    .dataframe tbody tr th:only-of-type {\n",
       "        vertical-align: middle;\n",
       "    }\n",
       "\n",
       "    .dataframe tbody tr th {\n",
       "        vertical-align: top;\n",
       "    }\n",
       "\n",
       "    .dataframe thead th {\n",
       "        text-align: right;\n",
       "    }\n",
       "</style>\n",
       "<table border=\"1\" class=\"dataframe\">\n",
       "  <thead>\n",
       "    <tr style=\"text-align: right;\">\n",
       "      <th></th>\n",
       "      <th>0</th>\n",
       "      <th>1</th>\n",
       "    </tr>\n",
       "  </thead>\n",
       "  <tbody>\n",
       "    <tr>\n",
       "      <td>const</td>\n",
       "      <td>5.788210</td>\n",
       "      <td>5.845417</td>\n",
       "    </tr>\n",
       "    <tr>\n",
       "      <td>A16</td>\n",
       "      <td>0.106622</td>\n",
       "      <td>0.121039</td>\n",
       "    </tr>\n",
       "  </tbody>\n",
       "</table>\n",
       "</div>"
      ],
      "text/plain": [
       "              0         1\n",
       "const  5.788210  5.845417\n",
       "A16    0.106622  0.121039"
      ]
     },
     "execution_count": 107,
     "metadata": {},
     "output_type": "execute_result"
    }
   ],
   "source": [
    "results.conf_int(0.1)"
   ]
  },
  {
   "cell_type": "code",
   "execution_count": 74,
   "metadata": {},
   "outputs": [
    {
     "data": {
      "image/png": "[encoded data removed]",
      "text/plain": [
       "<Figure size 1080x1080 with 1 Axes>"
      ]
     },
     "metadata": {
      "needs_background": "light"
     },
     "output_type": "display_data"
    }
   ],
   "source": [
    "st, data, ss2 = summary_table(results, alpha=0.1)\n",
    "\n",
    "fittedvalues = data[:, 2]\n",
    "predict_mean_se  = data[:, 3]\n",
    "predict_mean_ci_low, predict_mean_ci_upp = data[:, 4:6].T\n",
    "predict_ci_low, predict_ci_upp = data[:, 6:8].T\n",
    "\n",
    "plt.figure(figsize = (15,15))\n",
    "plt.plot(df1['A16'], df1['A11'], 'o')\n",
    "lists = np.array(sorted(zip(*[df1['A16'], fittedvalues])))\n",
    "new_x, new_y = lists[:,0], lists[:,1]\n",
    "plt.plot(new_x, new_y, '-', lw=2)\n",
    "\n",
    "lists = np.array(sorted(zip(*[df1['A16'], predict_ci_low])))\n",
    "new_x, new_y = lists[:,0], lists[:,1]\n",
    "plt.plot(new_x, new_y, 'r--', lw=2)\n",
    "\n",
    "lists = np.array(sorted(zip(*[df1['A16'], predict_ci_upp])))\n",
    "new_x, new_y = lists[:,0], lists[:,1]\n",
    "plt.plot(new_x, new_y, 'r--', lw=2)\n",
    "\n",
    "lists = np.array(sorted(zip(*[df1['A16'], predict_mean_ci_low])))\n",
    "new_x, new_y = lists[:,0], lists[:,1]\n",
    "plt.plot(new_x, new_y, 'r--', lw=2)\n",
    "\n",
    "lists = np.array(sorted(zip(*[df1['A16'], predict_mean_ci_upp])))\n",
    "new_x, new_y = lists[:,0], lists[:,1]\n",
    "plt.plot(new_x, new_y, 'r--', lw=2)\n",
    "\n",
    "plt.show()"
   ]
  },
  {
   "cell_type": "code",
   "execution_count": 18,
   "metadata": {},
   "outputs": [
    {
     "data": {
      "text/plain": [
       "<matplotlib.collections.PathCollection at 0x7f562a803710>"
      ]
     },
     "execution_count": 18,
     "metadata": {},
     "output_type": "execute_result"
    },
    {
     "data": {
      "image/png": "[encoded data removed]",
      "text/plain": [
       "<Figure size 432x288 with 1 Axes>"
      ]
     },
     "metadata": {
      "needs_background": "light"
     },
     "output_type": "display_data"
    }
   ],
   "source": [
    "plt.scatter(df1['A16'], df1['A11'] - results.predict(sm.add_constant(df1['A16'])))"
   ]
  },
  {
   "cell_type": "code",
   "execution_count": 110,
   "metadata": {},
   "outputs": [
    {
     "data": {
      "text/plain": [
       "(array([  9.,  51., 179., 281., 259., 177.,  85.,  25.,   4.,   3.]),\n",
       " array([-0.40920228, -0.31071967, -0.21223706, -0.11375444, -0.01527183,\n",
       "         0.08321078,  0.1816934 ,  0.28017601,  0.37865862,  0.47714124,\n",
       "         0.57562385]),\n",
       " <a list of 10 Patch objects>)"
      ]
     },
     "execution_count": 110,
     "metadata": {},
     "output_type": "execute_result"
    },
    {
     "data": {
      "image/png": "[encoded data removed]",
      "text/plain": [
       "<Figure size 432x288 with 1 Axes>"
      ]
     },
     "metadata": {
      "needs_background": "light"
     },
     "output_type": "display_data"
    }
   ],
   "source": [
    "plt.hist(df1['A11'] - results.predict(sm.add_constant(df1['A16'])))"
   ]
  },
  {
   "cell_type": "markdown",
   "metadata": {},
   "source": [
    "# 9.2"
   ]
  },
  {
   "cell_type": "code",
   "execution_count": 17,
   "metadata": {},
   "outputs": [],
   "source": [
    "df1['A16st2'] = df1['A16']**2"
   ]
  },
  {
   "cell_type": "code",
   "execution_count": 18,
   "metadata": {},
   "outputs": [],
   "source": [
    "model = sm.OLS(df1['A11'], sm.add_constant(df1[['A16', 'A16st2']]))\n",
    "results = model.fit()"
   ]
  },
  {
   "cell_type": "code",
   "execution_count": 19,
   "metadata": {},
   "outputs": [
    {
     "name": "stdout",
     "output_type": "stream",
     "text": [
      "                            OLS Regression Results                            \n",
      "==============================================================================\n",
      "Dep. Variable:                    A11   R-squared:                       0.414\n",
      "Model:                            OLS   Adj. R-squared:                  0.413\n",
      "Method:                 Least Squares   F-statistic:                     378.7\n",
      "Date:                Mon, 09 Dec 2019   Prob (F-statistic):          4.33e-125\n",
      "Time:                        22:28:43   Log-Likelihood:                 593.53\n",
      "No. Observations:                1073   AIC:                            -1181.\n",
      "Df Residuals:                    1070   BIC:                            -1166.\n",
      "Df Model:                           2                                         \n",
      "Covariance Type:            nonrobust                                         \n",
      "==============================================================================\n",
      "                 coef    std err          t      P>|t|      [0.025      0.975]\n",
      "------------------------------------------------------------------------------\n",
      "const          5.4068      0.060     89.856      0.000       5.289       5.525\n",
      "A16            0.3330      0.031     10.690      0.000       0.272       0.394\n",
      "A16st2        -0.0274      0.004     -7.103      0.000      -0.035      -0.020\n",
      "==============================================================================\n",
      "Omnibus:                       17.876   Durbin-Watson:                   1.323\n",
      "Prob(Omnibus):                  0.000   Jarque-Bera (JB):               18.350\n",
      "Skew:                           0.304   Prob(JB):                     0.000104\n",
      "Kurtosis:                       3.202   Cond. No.                         288.\n",
      "==============================================================================\n",
      "\n",
      "Warnings:\n",
      "[1] Standard Errors assume that the covariance matrix of the errors is correctly specified.\n"
     ]
    }
   ],
   "source": [
    "print(results.summary())"
   ]
  },
  {
   "cell_type": "code",
   "execution_count": 114,
   "metadata": {},
   "outputs": [
    {
     "data": {
      "text/plain": [
       "4.3274563895851533e-125"
      ]
     },
     "execution_count": 114,
     "metadata": {},
     "output_type": "execute_result"
    }
   ],
   "source": [
    "results.f_pvalue"
   ]
  },
  {
   "cell_type": "code",
   "execution_count": 115,
   "metadata": {},
   "outputs": [
    {
     "data": {
      "text/plain": [
       "array([[1.37095912e-02, 2.00000000e+00, 7.35519569e+00],\n",
       "       [1.93672963e-02, 1.07000000e+03, 1.94215971e-02],\n",
       "       [3.30768875e-02, 1.07200000e+03, 3.31077428e-02]])"
      ]
     },
     "execution_count": 115,
     "metadata": {},
     "output_type": "execute_result"
    }
   ],
   "source": [
    "regr_analyses_tab(results)"
   ]
  },
  {
   "cell_type": "code",
   "execution_count": 116,
   "metadata": {},
   "outputs": [
    {
     "data": {
      "text/plain": [
       "0.41447645954142764"
      ]
     },
     "execution_count": 116,
     "metadata": {},
     "output_type": "execute_result"
    }
   ],
   "source": [
    "results.rsquared"
   ]
  },
  {
   "cell_type": "code",
   "execution_count": 117,
   "metadata": {},
   "outputs": [
    {
     "data": {
      "text/plain": [
       "0.6437984618973764"
      ]
     },
     "execution_count": 117,
     "metadata": {},
     "output_type": "execute_result"
    }
   ],
   "source": [
    "np.sqrt(results.rsquared)"
   ]
  },
  {
   "cell_type": "code",
   "execution_count": 78,
   "metadata": {},
   "outputs": [
    {
     "data": {
      "image/png": "[encoded data removed]",
      "text/plain": [
       "<Figure size 1080x1080 with 1 Axes>"
      ]
     },
     "metadata": {
      "needs_background": "light"
     },
     "output_type": "display_data"
    }
   ],
   "source": [
    "st, data, ss2 = summary_table(results, alpha=0.1)\n",
    "\n",
    "fittedvalues = data[:, 2]\n",
    "predict_mean_se  = data[:, 3]\n",
    "predict_mean_ci_low, predict_mean_ci_upp = data[:, 4:6].T\n",
    "predict_ci_low, predict_ci_upp = data[:, 6:8].T\n",
    "\n",
    "plt.figure(figsize = (15,15))\n",
    "plt.plot(df1['A16'], df1['A11'], 'o')\n",
    "lists = np.array(sorted(zip(*[df1['A16'], fittedvalues])))\n",
    "new_x, new_y = lists[:,0], lists[:,1]\n",
    "plt.plot(new_x, new_y, '-', lw=2)\n",
    "\n",
    "lists = np.array(sorted(zip(*[df1['A16'], predict_ci_low])))\n",
    "new_x, new_y = lists[:,0], lists[:,1]\n",
    "plt.plot(new_x, new_y, 'r--', lw=2)\n",
    "\n",
    "lists = np.array(sorted(zip(*[df1['A16'], predict_ci_upp])))\n",
    "new_x, new_y = lists[:,0], lists[:,1]\n",
    "plt.plot(new_x, new_y, 'r--', lw=2)\n",
    "\n",
    "lists = np.array(sorted(zip(*[df1['A16'], predict_mean_ci_low])))\n",
    "new_x, new_y = lists[:,0], lists[:,1]\n",
    "plt.plot(new_x, new_y, 'r--', lw=2)\n",
    "\n",
    "lists = np.array(sorted(zip(*[df1['A16'], predict_mean_ci_upp])))\n",
    "new_x, new_y = lists[:,0], lists[:,1]\n",
    "plt.plot(new_x, new_y, 'r--', lw=2)\n",
    "\n",
    "plt.show()"
   ]
  },
  {
   "cell_type": "code",
   "execution_count": 20,
   "metadata": {},
   "outputs": [
    {
     "data": {
      "text/plain": [
       "<matplotlib.collections.PathCollection at 0x7fc519361690>"
      ]
     },
     "execution_count": 20,
     "metadata": {},
     "output_type": "execute_result"
    },
    {
     "data": {
      "image/png": "[encoded data removed]",
      "text/plain": [
       "<Figure size 432x288 with 1 Axes>"
      ]
     },
     "metadata": {
      "needs_background": "light"
     },
     "output_type": "display_data"
    }
   ],
   "source": [
    "plt.scatter(df1['A16'], df1['A11'] - results.predict(sm.add_constant(df1[['A16', 'A16st2']])))"
   ]
  },
  {
   "cell_type": "code",
   "execution_count": 94,
   "metadata": {},
   "outputs": [
    {
     "data": {
      "text/plain": [
       "(array([ 38., 201., 320., 266., 145.,  71.,  23.,   7.,   1.,   1.]),\n",
       " array([-180.48869952, -122.27199372,  -64.05528791,   -5.8385821 ,\n",
       "          52.37812371,  110.59482952,  168.81153532,  227.02824113,\n",
       "         285.24494694,  343.46165275,  401.67835856]),\n",
       " <a list of 10 Patch objects>)"
      ]
     },
     "execution_count": 94,
     "metadata": {},
     "output_type": "execute_result"
    },
    {
     "data": {
      "image/png": "[encoded data removed]",
      "text/plain": [
       "<Figure size 432x288 with 1 Axes>"
      ]
     },
     "metadata": {
      "needs_background": "light"
     },
     "output_type": "display_data"
    }
   ],
   "source": [
    "plt.hist(df1['A11'] - results.predict(sm.add_constant(df1[['A16', 'A16st2']])))"
   ]
  },
  {
   "cell_type": "markdown",
   "metadata": {},
   "source": [
    "# 9.3"
   ]
  },
  {
   "cell_type": "code",
   "execution_count": null,
   "metadata": {},
   "outputs": [],
   "source": [
    "df1['A6'] = np.log(df1['A6'])"
   ]
  },
  {
   "cell_type": "code",
   "execution_count": 33,
   "metadata": {},
   "outputs": [],
   "source": [
    "model = sm.OLS(df1['A11'], sm.add_constant(df1[['A6st', 'A16st']]))\n",
    "results = model.fit()"
   ]
  },
  {
   "cell_type": "code",
   "execution_count": 29,
   "metadata": {},
   "outputs": [
    {
     "data": {
      "text/html": [
       "<div>\n",
       "<style scoped>\n",
       "    .dataframe tbody tr th:only-of-type {\n",
       "        vertical-align: middle;\n",
       "    }\n",
       "\n",
       "    .dataframe tbody tr th {\n",
       "        vertical-align: top;\n",
       "    }\n",
       "\n",
       "    .dataframe thead th {\n",
       "        text-align: right;\n",
       "    }\n",
       "</style>\n",
       "<table border=\"1\" class=\"dataframe\">\n",
       "  <thead>\n",
       "    <tr style=\"text-align: right;\">\n",
       "      <th></th>\n",
       "      <th>A6</th>\n",
       "      <th>A16</th>\n",
       "    </tr>\n",
       "  </thead>\n",
       "  <tbody>\n",
       "    <tr>\n",
       "      <td>count</td>\n",
       "      <td>1073.000000</td>\n",
       "      <td>1073.000000</td>\n",
       "    </tr>\n",
       "    <tr>\n",
       "      <td>mean</td>\n",
       "      <td>6.026278</td>\n",
       "      <td>3.841366</td>\n",
       "    </tr>\n",
       "    <tr>\n",
       "      <td>std</td>\n",
       "      <td>0.168557</td>\n",
       "      <td>0.994232</td>\n",
       "    </tr>\n",
       "    <tr>\n",
       "      <td>min</td>\n",
       "      <td>5.455321</td>\n",
       "      <td>1.791759</td>\n",
       "    </tr>\n",
       "    <tr>\n",
       "      <td>25%</td>\n",
       "      <td>5.916202</td>\n",
       "      <td>3.044522</td>\n",
       "    </tr>\n",
       "    <tr>\n",
       "      <td>50%</td>\n",
       "      <td>6.033086</td>\n",
       "      <td>3.761200</td>\n",
       "    </tr>\n",
       "    <tr>\n",
       "      <td>75%</td>\n",
       "      <td>6.144186</td>\n",
       "      <td>4.615121</td>\n",
       "    </tr>\n",
       "    <tr>\n",
       "      <td>max</td>\n",
       "      <td>6.597146</td>\n",
       "      <td>6.580639</td>\n",
       "    </tr>\n",
       "  </tbody>\n",
       "</table>\n",
       "</div>"
      ],
      "text/plain": [
       "                A6          A16\n",
       "count  1073.000000  1073.000000\n",
       "mean      6.026278     3.841366\n",
       "std       0.168557     0.994232\n",
       "min       5.455321     1.791759\n",
       "25%       5.916202     3.044522\n",
       "50%       6.033086     3.761200\n",
       "75%       6.144186     4.615121\n",
       "max       6.597146     6.580639"
      ]
     },
     "execution_count": 29,
     "metadata": {},
     "output_type": "execute_result"
    }
   ],
   "source": [
    "df1[['A6', 'A16']].describe()"
   ]
  },
  {
   "cell_type": "code",
   "execution_count": 32,
   "metadata": {},
   "outputs": [],
   "source": [
    "df1['A6st'] = (df1['A6'] - np.mean(df1['A6']))/np.std(df1['A6'])\n",
    "df1['A16st'] = (df1['A16'] - np.mean(df1['A16']))/np.std(df1['A16'])"
   ]
  },
  {
   "cell_type": "code",
   "execution_count": 34,
   "metadata": {},
   "outputs": [
    {
     "name": "stdout",
     "output_type": "stream",
     "text": [
      "                            OLS Regression Results                            \n",
      "==============================================================================\n",
      "Dep. Variable:                    A11   R-squared:                       0.963\n",
      "Model:                            OLS   Adj. R-squared:                  0.963\n",
      "Method:                 Least Squares   F-statistic:                 1.386e+04\n",
      "Date:                Mon, 09 Dec 2019   Prob (F-statistic):               0.00\n",
      "Time:                        22:32:00   Log-Likelihood:                 2072.7\n",
      "No. Observations:                1073   AIC:                            -4139.\n",
      "Df Residuals:                    1070   BIC:                            -4124.\n",
      "Df Model:                           2                                         \n",
      "Covariance Type:            nonrobust                                         \n",
      "==============================================================================\n",
      "                 coef    std err          t      P>|t|      [0.025      0.975]\n",
      "------------------------------------------------------------------------------\n",
      "const          6.2541      0.001   5834.479      0.000       6.252       6.256\n",
      "A6st           0.1800      0.001    128.765      0.000       0.177       0.183\n",
      "A16st         -0.0024      0.001     -1.693      0.091      -0.005       0.000\n",
      "==============================================================================\n",
      "Omnibus:                       22.148   Durbin-Watson:                   1.502\n",
      "Prob(Omnibus):                  0.000   Jarque-Bera (JB):               32.052\n",
      "Skew:                           0.206   Prob(JB):                     1.10e-07\n",
      "Kurtosis:                       3.740   Cond. No.                         2.14\n",
      "==============================================================================\n",
      "\n",
      "Warnings:\n",
      "[1] Standard Errors assume that the covariance matrix of the errors is correctly specified.\n"
     ]
    }
   ],
   "source": [
    "print(results.summary())"
   ]
  },
  {
   "cell_type": "code",
   "execution_count": 36,
   "metadata": {},
   "outputs": [],
   "source": [
    "from sklearn.linear_model import Lasso"
   ]
  },
  {
   "cell_type": "code",
   "execution_count": 44,
   "metadata": {},
   "outputs": [
    {
     "data": {
      "text/plain": [
       "Lasso(alpha=100, copy_X=True, fit_intercept=True, max_iter=1000,\n",
       "   normalize=False, positive=False, precompute=False, random_state=None,\n",
       "   selection='cyclic', tol=0.0001, warm_start=False)"
      ]
     },
     "execution_count": 44,
     "metadata": {},
     "output_type": "execute_result"
    }
   ],
   "source": [
    "clf = Lasso(alpha=100)\n",
    "clf.fit(df1[['A6', 'A16']], df1['A11'])"
   ]
  },
  {
   "cell_type": "code",
   "execution_count": 45,
   "metadata": {},
   "outputs": [
    {
     "data": {
      "text/plain": [
       "0.0"
      ]
     },
     "execution_count": 45,
     "metadata": {},
     "output_type": "execute_result"
    }
   ],
   "source": [
    "clf.score(df1[['A6st', 'A16st']], df1['A11'])"
   ]
  },
  {
   "cell_type": "code",
   "execution_count": 43,
   "metadata": {},
   "outputs": [
    {
     "data": {
      "text/plain": [
       "array([0., 0.])"
      ]
     },
     "execution_count": 43,
     "metadata": {},
     "output_type": "execute_result"
    }
   ],
   "source": [
    "clf.coef_"
   ]
  },
  {
   "cell_type": "code",
   "execution_count": 26,
   "metadata": {},
   "outputs": [
    {
     "data": {
      "text/plain": [
       "<matplotlib.collections.PathCollection at 0x7f562a786250>"
      ]
     },
     "execution_count": 26,
     "metadata": {},
     "output_type": "execute_result"
    },
    {
     "data": {
      "image/png": "[encoded data removed]",
      "text/plain": [
       "<Figure size 432x288 with 1 Axes>"
      ]
     },
     "metadata": {
      "needs_background": "light"
     },
     "output_type": "display_data"
    }
   ],
   "source": [
    "plt.scatter(df1['A6'], df1['A11'])"
   ]
  },
  {
   "cell_type": "code",
   "execution_count": 15,
   "metadata": {},
   "outputs": [
    {
     "data": {
      "text/plain": [
       "0.9636360539340022"
      ]
     },
     "execution_count": 15,
     "metadata": {},
     "output_type": "execute_result"
    }
   ],
   "source": [
    "results.rsquared"
   ]
  },
  {
   "cell_type": "code",
   "execution_count": 18,
   "metadata": {},
   "outputs": [
    {
     "data": {
      "text/plain": [
       "(0.47656047855218564, 6.230379100352977e-62)"
      ]
     },
     "execution_count": 18,
     "metadata": {},
     "output_type": "execute_result"
    }
   ],
   "source": [
    "stats.pearsonr(df1['A16'], df1['A6'])"
   ]
  },
  {
   "cell_type": "code",
   "execution_count": 35,
   "metadata": {},
   "outputs": [
    {
     "data": {
      "text/plain": [
       "0.9815209145552884"
      ]
     },
     "execution_count": 35,
     "metadata": {},
     "output_type": "execute_result"
    }
   ],
   "source": [
    "np.sqrt(results.rsquared)"
   ]
  },
  {
   "cell_type": "code",
   "execution_count": 36,
   "metadata": {},
   "outputs": [
    {
     "data": {
      "text/plain": [
       "(0.9815209145552882, 0.0)"
      ]
     },
     "execution_count": 36,
     "metadata": {},
     "output_type": "execute_result"
    }
   ],
   "source": [
    "stats.pearsonr(df1['A11'], df1['A6'])"
   ]
  },
  {
   "cell_type": "code",
   "execution_count": 38,
   "metadata": {},
   "outputs": [
    {
     "data": {
      "text/plain": [
       "array([[8.78164746e+03, 1.00000000e+00, 9.42270772e+06],\n",
       "       [3.33776700e+02, 1.07100000e+03, 3.34399999e+02],\n",
       "       [9.11542416e+03, 1.07200000e+03, 9.12392735e+03]])"
      ]
     },
     "execution_count": 38,
     "metadata": {},
     "output_type": "execute_result"
    }
   ],
   "source": [
    "regr_analyses_tab(results)"
   ]
  },
  {
   "cell_type": "code",
   "execution_count": null,
   "metadata": {},
   "outputs": [],
   "source": []
  }
 ],
 "metadata": {
  "kernelspec": {
   "display_name": "Python 3",
   "language": "python",
   "name": "python3"
  },
  "language_info": {
   "codemirror_mode": {
    "name": "ipython",
    "version": 3
   },
   "file_extension": ".py",
   "mimetype": "text/x-python",
   "name": "python",
   "nbconvert_exporter": "python",
   "pygments_lexer": "ipython3",
   "version": "3.7.4"
  }
 },
 "nbformat": 4,
 "nbformat_minor": 2
}
